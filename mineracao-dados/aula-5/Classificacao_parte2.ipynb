{
 "cells": [
  {
   "cell_type": "markdown",
   "metadata": {},
   "source": [
    "# Avaliação - k-Fold árvore de decisão - Dataset Iris"
   ]
  },
  {
   "cell_type": "code",
   "execution_count": 8,
   "metadata": {},
   "outputs": [],
   "source": [
    "from sklearn import tree\n",
    "import pandas as pd "
   ]
  },
  {
   "cell_type": "code",
   "execution_count": 9,
   "metadata": {},
   "outputs": [],
   "source": [
    "dfIris = pd.read_csv('Iris.csv').set_index('Id')\n"
   ]
  },
  {
   "cell_type": "code",
   "execution_count": 10,
   "metadata": {},
   "outputs": [],
   "source": [
    "dfIris['Species'] = pd.Categorical(dfIris['Species'])\n",
    "dfIris['code'] = dfIris['Species'].cat.codes\n"
   ]
  },
  {
   "cell_type": "code",
   "execution_count": 12,
   "metadata": {
    "scrolled": true
   },
   "outputs": [
    {
     "name": "stdout",
     "output_type": "stream",
     "text": [
      "0.9600000000000002\n",
      "0.03265986323710903\n"
     ]
    }
   ],
   "source": [
    "#função que facilita a validação cruzada (cross-validation)\n",
    "from sklearn.model_selection import cross_val_score\n",
    "\n",
    "#Não estamos dividindo o dataset em apenas dois como antes.\n",
    "X = dfIris[[\"SepalLengthCm\",\"SepalWidthCm\",\"PetalLengthCm\",\"PetalWidthCm\"]]\n",
    "y = dfIris['code']\n",
    "\n",
    "tree_model = tree.DecisionTreeClassifier()\n",
    "\n",
    "#aqui a estratégia de cross-valiadtion with k-fold=5 será usada.\n",
    "scores = cross_val_score(tree_model, X, y, cv=5)\n",
    "\n",
    "#Visão do desempenho baseada em 5 divisões.\n",
    "print(scores.mean())\n",
    "\n",
    "#Desvio padrão da média. \n",
    "print(scores.std())\n",
    "#Vemos que no exemplo anterior a divisão que fizemos aleatóriamente não favoreceu a generalização do modelo"
   ]
  },
  {
   "cell_type": "markdown",
   "metadata": {},
   "source": [
    "#### Outros usos\n",
    "Cross validation é útil também para procedimentos de seleção de parâmetros de modelos (e.g., GridSearch)"
   ]
  },
  {
   "cell_type": "markdown",
   "metadata": {},
   "source": [
    "# Usando outras estratégias de classificação "
   ]
  },
  {
   "cell_type": "markdown",
   "metadata": {},
   "source": [
    "### Knn"
   ]
  },
  {
   "cell_type": "code",
   "execution_count": 13,
   "metadata": {},
   "outputs": [
    {
     "data": {
      "text/plain": [
       "0.9666666666666668"
      ]
     },
     "execution_count": 13,
     "metadata": {},
     "output_type": "execute_result"
    }
   ],
   "source": [
    "from sklearn.neighbors import KNeighborsClassifier\n",
    "\n",
    "neigh = KNeighborsClassifier(n_neighbors=3)\n",
    "\n",
    "scores = cross_val_score(neigh, X, y, cv=5)\n",
    "\n",
    "# resultado praticamente igual ao da árvore de decisão testada\n",
    "scores.mean()"
   ]
  },
  {
   "cell_type": "markdown",
   "metadata": {},
   "source": [
    "### Knn - número diferentes de vizinhos"
   ]
  },
  {
   "cell_type": "code",
   "execution_count": 14,
   "metadata": {},
   "outputs": [
    {
     "data": {
      "text/plain": [
       "0.9733333333333334"
      ]
     },
     "execution_count": 14,
     "metadata": {},
     "output_type": "execute_result"
    }
   ],
   "source": [
    "neigh = KNeighborsClassifier(n_neighbors=5)\n",
    "\n",
    "scores = cross_val_score(neigh, X, y, cv=5)\n",
    "\n",
    "# melhor do que as abordagens testadas\n",
    "scores.mean()"
   ]
  },
  {
   "cell_type": "markdown",
   "metadata": {},
   "source": [
    "### Classificador probabilistico (Naive Bayes)"
   ]
  },
  {
   "cell_type": "code",
   "execution_count": 16,
   "metadata": {},
   "outputs": [
    {
     "data": {
      "text/plain": [
       "0.9533333333333334"
      ]
     },
     "execution_count": 16,
     "metadata": {},
     "output_type": "execute_result"
    }
   ],
   "source": [
    "from sklearn.naive_bayes import GaussianNB\n",
    "\n",
    "naiveBayes = GaussianNB()\n",
    "\n",
    "scores = cross_val_score(naiveBayes, X, y, cv=5)\n",
    "scores.mean()\n",
    "#Resultado pior do que kNN"
   ]
  }
 ],
 "metadata": {
  "kernelspec": {
   "display_name": "venv",
   "language": "python",
   "name": "python3"
  },
  "language_info": {
   "codemirror_mode": {
    "name": "ipython",
    "version": 3
   },
   "file_extension": ".py",
   "mimetype": "text/x-python",
   "name": "python",
   "nbconvert_exporter": "python",
   "pygments_lexer": "ipython3",
   "version": "3.13.7"
  }
 },
 "nbformat": 4,
 "nbformat_minor": 4
}
