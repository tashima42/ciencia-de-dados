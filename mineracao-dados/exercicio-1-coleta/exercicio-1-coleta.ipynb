{
 "cells": [
  {
   "cell_type": "markdown",
   "id": "db368813",
   "metadata": {},
   "source": [
    "# Instalar pacotes"
   ]
  },
  {
   "cell_type": "code",
   "execution_count": 1,
   "id": "45066c84",
   "metadata": {},
   "outputs": [
    {
     "name": "stdout",
     "output_type": "stream",
     "text": [
      "Requirement already satisfied: simplejson==3.20.1 in /Users/pedro/code/tashima42/ciencia-de-dados/.venv/lib/python3.13/site-packages (from -r ../requirements.txt (line 1)) (3.20.1)\n",
      "Requirement already satisfied: python-youtube==0.9.7 in /Users/pedro/code/tashima42/ciencia-de-dados/.venv/lib/python3.13/site-packages (from -r ../requirements.txt (line 2)) (0.9.7)\n",
      "Requirement already satisfied: python-dotenv==1.1.1 in /Users/pedro/code/tashima42/ciencia-de-dados/.venv/lib/python3.13/site-packages (from -r ../requirements.txt (line 3)) (1.1.1)\n",
      "Requirement already satisfied: beautifulsoup4==4.13.4 in /Users/pedro/code/tashima42/ciencia-de-dados/.venv/lib/python3.13/site-packages (from -r ../requirements.txt (line 4)) (4.13.4)\n",
      "Requirement already satisfied: selenium==4.35.0 in /Users/pedro/code/tashima42/ciencia-de-dados/.venv/lib/python3.13/site-packages (from -r ../requirements.txt (line 5)) (4.35.0)\n",
      "Requirement already satisfied: dataclasses-json<0.7.0,>=0.6.0 in /Users/pedro/code/tashima42/ciencia-de-dados/.venv/lib/python3.13/site-packages (from python-youtube==0.9.7->-r ../requirements.txt (line 2)) (0.6.7)\n",
      "Requirement already satisfied: isodate<=0.7.2,>=0.6.0 in /Users/pedro/code/tashima42/ciencia-de-dados/.venv/lib/python3.13/site-packages (from python-youtube==0.9.7->-r ../requirements.txt (line 2)) (0.7.2)\n",
      "Requirement already satisfied: requests<3.0.0,>=2.24.0 in /Users/pedro/code/tashima42/ciencia-de-dados/.venv/lib/python3.13/site-packages (from python-youtube==0.9.7->-r ../requirements.txt (line 2)) (2.32.5)\n",
      "Requirement already satisfied: requests-oauthlib==1.3.0 in /Users/pedro/code/tashima42/ciencia-de-dados/.venv/lib/python3.13/site-packages (from python-youtube==0.9.7->-r ../requirements.txt (line 2)) (1.3.0)\n",
      "Requirement already satisfied: soupsieve>1.2 in /Users/pedro/code/tashima42/ciencia-de-dados/.venv/lib/python3.13/site-packages (from beautifulsoup4==4.13.4->-r ../requirements.txt (line 4)) (2.7)\n",
      "Requirement already satisfied: typing-extensions>=4.0.0 in /Users/pedro/code/tashima42/ciencia-de-dados/.venv/lib/python3.13/site-packages (from beautifulsoup4==4.13.4->-r ../requirements.txt (line 4)) (4.14.1)\n",
      "Requirement already satisfied: urllib3<3.0,>=2.5.0 in /Users/pedro/code/tashima42/ciencia-de-dados/.venv/lib/python3.13/site-packages (from urllib3[socks]<3.0,>=2.5.0->selenium==4.35.0->-r ../requirements.txt (line 5)) (2.5.0)\n",
      "Requirement already satisfied: trio~=0.30.0 in /Users/pedro/code/tashima42/ciencia-de-dados/.venv/lib/python3.13/site-packages (from selenium==4.35.0->-r ../requirements.txt (line 5)) (0.30.0)\n",
      "Requirement already satisfied: trio-websocket~=0.12.2 in /Users/pedro/code/tashima42/ciencia-de-dados/.venv/lib/python3.13/site-packages (from selenium==4.35.0->-r ../requirements.txt (line 5)) (0.12.2)\n",
      "Requirement already satisfied: certifi>=2025.6.15 in /Users/pedro/code/tashima42/ciencia-de-dados/.venv/lib/python3.13/site-packages (from selenium==4.35.0->-r ../requirements.txt (line 5)) (2025.8.3)\n",
      "Requirement already satisfied: websocket-client~=1.8.0 in /Users/pedro/code/tashima42/ciencia-de-dados/.venv/lib/python3.13/site-packages (from selenium==4.35.0->-r ../requirements.txt (line 5)) (1.8.0)\n",
      "Requirement already satisfied: oauthlib>=3.0.0 in /Users/pedro/code/tashima42/ciencia-de-dados/.venv/lib/python3.13/site-packages (from requests-oauthlib==1.3.0->python-youtube==0.9.7->-r ../requirements.txt (line 2)) (3.3.1)\n",
      "Requirement already satisfied: marshmallow<4.0.0,>=3.18.0 in /Users/pedro/code/tashima42/ciencia-de-dados/.venv/lib/python3.13/site-packages (from dataclasses-json<0.7.0,>=0.6.0->python-youtube==0.9.7->-r ../requirements.txt (line 2)) (3.26.1)\n",
      "Requirement already satisfied: typing-inspect<1,>=0.4.0 in /Users/pedro/code/tashima42/ciencia-de-dados/.venv/lib/python3.13/site-packages (from dataclasses-json<0.7.0,>=0.6.0->python-youtube==0.9.7->-r ../requirements.txt (line 2)) (0.9.0)\n",
      "Requirement already satisfied: packaging>=17.0 in /Users/pedro/code/tashima42/ciencia-de-dados/.venv/lib/python3.13/site-packages (from marshmallow<4.0.0,>=3.18.0->dataclasses-json<0.7.0,>=0.6.0->python-youtube==0.9.7->-r ../requirements.txt (line 2)) (25.0)\n",
      "Requirement already satisfied: charset_normalizer<4,>=2 in /Users/pedro/code/tashima42/ciencia-de-dados/.venv/lib/python3.13/site-packages (from requests<3.0.0,>=2.24.0->python-youtube==0.9.7->-r ../requirements.txt (line 2)) (3.4.3)\n",
      "Requirement already satisfied: idna<4,>=2.5 in /Users/pedro/code/tashima42/ciencia-de-dados/.venv/lib/python3.13/site-packages (from requests<3.0.0,>=2.24.0->python-youtube==0.9.7->-r ../requirements.txt (line 2)) (3.10)\n",
      "Requirement already satisfied: attrs>=23.2.0 in /Users/pedro/code/tashima42/ciencia-de-dados/.venv/lib/python3.13/site-packages (from trio~=0.30.0->selenium==4.35.0->-r ../requirements.txt (line 5)) (25.3.0)\n",
      "Requirement already satisfied: sortedcontainers in /Users/pedro/code/tashima42/ciencia-de-dados/.venv/lib/python3.13/site-packages (from trio~=0.30.0->selenium==4.35.0->-r ../requirements.txt (line 5)) (2.4.0)\n",
      "Requirement already satisfied: outcome in /Users/pedro/code/tashima42/ciencia-de-dados/.venv/lib/python3.13/site-packages (from trio~=0.30.0->selenium==4.35.0->-r ../requirements.txt (line 5)) (1.3.0.post0)\n",
      "Requirement already satisfied: sniffio>=1.3.0 in /Users/pedro/code/tashima42/ciencia-de-dados/.venv/lib/python3.13/site-packages (from trio~=0.30.0->selenium==4.35.0->-r ../requirements.txt (line 5)) (1.3.1)\n",
      "Requirement already satisfied: wsproto>=0.14 in /Users/pedro/code/tashima42/ciencia-de-dados/.venv/lib/python3.13/site-packages (from trio-websocket~=0.12.2->selenium==4.35.0->-r ../requirements.txt (line 5)) (1.2.0)\n",
      "Requirement already satisfied: mypy-extensions>=0.3.0 in /Users/pedro/code/tashima42/ciencia-de-dados/.venv/lib/python3.13/site-packages (from typing-inspect<1,>=0.4.0->dataclasses-json<0.7.0,>=0.6.0->python-youtube==0.9.7->-r ../requirements.txt (line 2)) (1.1.0)\n",
      "Requirement already satisfied: pysocks!=1.5.7,<2.0,>=1.5.6 in /Users/pedro/code/tashima42/ciencia-de-dados/.venv/lib/python3.13/site-packages (from urllib3[socks]<3.0,>=2.5.0->selenium==4.35.0->-r ../requirements.txt (line 5)) (1.7.1)\n",
      "Requirement already satisfied: h11<1,>=0.9.0 in /Users/pedro/code/tashima42/ciencia-de-dados/.venv/lib/python3.13/site-packages (from wsproto>=0.14->trio-websocket~=0.12.2->selenium==4.35.0->-r ../requirements.txt (line 5)) (0.16.0)\n"
     ]
    }
   ],
   "source": [
    "!python3 -m pip install -r ../requirements.txt"
   ]
  },
  {
   "cell_type": "code",
   "execution_count": 2,
   "id": "acd3a181",
   "metadata": {},
   "outputs": [],
   "source": [
    "from dotenv import dotenv_values\n",
    "config = dotenv_values(\"../.env\")"
   ]
  },
  {
   "cell_type": "markdown",
   "id": "3dbbb665",
   "metadata": {},
   "source": [
    "# 1 - Youtube Data API\n",
    "## 1.1 Faça uma busca por 50 vídeos com a palavra chave 'eleição'."
   ]
  },
  {
   "cell_type": "code",
   "execution_count": 3,
   "id": "7f74116c",
   "metadata": {},
   "outputs": [],
   "source": [
    "from pyyoutube import Api\n",
    "\n",
    "# get key from .env file\n",
    "api = Api(api_key=config[\"YOUTUBE_APIKEY\"])"
   ]
  },
  {
   "cell_type": "code",
   "execution_count": 4,
   "id": "0a3d7d1f",
   "metadata": {},
   "outputs": [],
   "source": [
    "videos_eleicao = api.search_by_keywords(q=\"eleição\", count=50, search_type=[\"video\"])"
   ]
  },
  {
   "cell_type": "code",
   "execution_count": 5,
   "id": "b0477818",
   "metadata": {},
   "outputs": [
    {
     "data": {
      "text/plain": [
       "[SearchResult(kind='youtube#searchResult'),\n",
       " SearchResult(kind='youtube#searchResult'),\n",
       " SearchResult(kind='youtube#searchResult'),\n",
       " SearchResult(kind='youtube#searchResult'),\n",
       " SearchResult(kind='youtube#searchResult'),\n",
       " SearchResult(kind='youtube#searchResult'),\n",
       " SearchResult(kind='youtube#searchResult'),\n",
       " SearchResult(kind='youtube#searchResult'),\n",
       " SearchResult(kind='youtube#searchResult'),\n",
       " SearchResult(kind='youtube#searchResult'),\n",
       " SearchResult(kind='youtube#searchResult'),\n",
       " SearchResult(kind='youtube#searchResult'),\n",
       " SearchResult(kind='youtube#searchResult'),\n",
       " SearchResult(kind='youtube#searchResult'),\n",
       " SearchResult(kind='youtube#searchResult'),\n",
       " SearchResult(kind='youtube#searchResult'),\n",
       " SearchResult(kind='youtube#searchResult'),\n",
       " SearchResult(kind='youtube#searchResult'),\n",
       " SearchResult(kind='youtube#searchResult'),\n",
       " SearchResult(kind='youtube#searchResult'),\n",
       " SearchResult(kind='youtube#searchResult'),\n",
       " SearchResult(kind='youtube#searchResult'),\n",
       " SearchResult(kind='youtube#searchResult'),\n",
       " SearchResult(kind='youtube#searchResult'),\n",
       " SearchResult(kind='youtube#searchResult'),\n",
       " SearchResult(kind='youtube#searchResult'),\n",
       " SearchResult(kind='youtube#searchResult'),\n",
       " SearchResult(kind='youtube#searchResult'),\n",
       " SearchResult(kind='youtube#searchResult'),\n",
       " SearchResult(kind='youtube#searchResult'),\n",
       " SearchResult(kind='youtube#searchResult'),\n",
       " SearchResult(kind='youtube#searchResult'),\n",
       " SearchResult(kind='youtube#searchResult'),\n",
       " SearchResult(kind='youtube#searchResult'),\n",
       " SearchResult(kind='youtube#searchResult'),\n",
       " SearchResult(kind='youtube#searchResult'),\n",
       " SearchResult(kind='youtube#searchResult'),\n",
       " SearchResult(kind='youtube#searchResult'),\n",
       " SearchResult(kind='youtube#searchResult'),\n",
       " SearchResult(kind='youtube#searchResult'),\n",
       " SearchResult(kind='youtube#searchResult'),\n",
       " SearchResult(kind='youtube#searchResult'),\n",
       " SearchResult(kind='youtube#searchResult'),\n",
       " SearchResult(kind='youtube#searchResult'),\n",
       " SearchResult(kind='youtube#searchResult'),\n",
       " SearchResult(kind='youtube#searchResult'),\n",
       " SearchResult(kind='youtube#searchResult'),\n",
       " SearchResult(kind='youtube#searchResult'),\n",
       " SearchResult(kind='youtube#searchResult'),\n",
       " SearchResult(kind='youtube#searchResult')]"
      ]
     },
     "execution_count": 5,
     "metadata": {},
     "output_type": "execute_result"
    }
   ],
   "source": [
    "videos_eleicao.items"
   ]
  },
  {
   "cell_type": "code",
   "execution_count": 7,
   "id": "6a14ca81",
   "metadata": {},
   "outputs": [
    {
     "data": {
      "text/plain": [
       "{'kind': 'youtube#searchResult',\n",
       " 'etag': 'ozuXVX9dmYPaTvZNPAVMQnk_IsM',\n",
       " 'id': {'kind': 'youtube#video',\n",
       "  'videoId': 'z2qFZzAQB5s',\n",
       "  'channelId': None,\n",
       "  'playlistId': None},\n",
       " 'snippet': {'publishedAt': '2025-08-20T16:54:37Z',\n",
       "  'channelId': 'UC-ZkSRh-7UEuwXJQ9UMCFJA',\n",
       "  'title': 'CPMI do INSS: reunião de instalação e eleição - 20/08/25 (parte 2)',\n",
       "  'description': 'Parte 1: https://youtu.be/BS8n6sascs8 Comissão Parlamentar Mista de Inquérito do INSS - 2025 Tema: 1ª Reunião: instalação e ...',\n",
       "  'thumbnails': {'default': {'url': 'https://i.ytimg.com/vi/z2qFZzAQB5s/default.jpg',\n",
       "    'width': 120,\n",
       "    'height': 90},\n",
       "   'medium': {'url': 'https://i.ytimg.com/vi/z2qFZzAQB5s/mqdefault.jpg',\n",
       "    'width': 320,\n",
       "    'height': 180},\n",
       "   'high': {'url': 'https://i.ytimg.com/vi/z2qFZzAQB5s/hqdefault.jpg',\n",
       "    'width': 480,\n",
       "    'height': 360},\n",
       "   'standard': None,\n",
       "   'maxres': None},\n",
       "  'channelTitle': 'Câmara dos Deputados',\n",
       "  'liveBroadcastContent': 'none'}}"
      ]
     },
     "execution_count": 7,
     "metadata": {},
     "output_type": "execute_result"
    }
   ],
   "source": [
    "videos_eleicao.items[0].to_dict()"
   ]
  },
  {
   "cell_type": "markdown",
   "id": "0195a158",
   "metadata": {},
   "source": [
    "## 1.2 Faça a procura por conteúdos em São Paulo no período do segundo turno da última eleição presidencial"
   ]
  },
  {
   "cell_type": "code",
   "execution_count": 22,
   "id": "115b483e",
   "metadata": {},
   "outputs": [],
   "source": [
    "videos_eleicoes_sp = api.search(location=\"-23.550487, -46.633125\",\n",
    "               location_radius=\"20mi\",\n",
    "               q=\"eleição\",\n",
    "               count=50,\n",
    "               published_after=\"2022-10-03T00:00:00Z\",\n",
    "               published_before=\"2022-10-30T23:59:59Z\",\n",
    "               safe_search=\"moderate\",\n",
    "               search_type=\"video\")"
   ]
  },
  {
   "cell_type": "markdown",
   "id": "d7bbf6ad",
   "metadata": {},
   "source": [
    "### 1.3 Identifique o vídeo com mais comentários e exiba as informações desse vídeo"
   ]
  },
  {
   "cell_type": "code",
   "execution_count": 31,
   "id": "aff9d85f",
   "metadata": {},
   "outputs": [
    {
     "data": {
      "text/plain": [
       "{'kind': 'youtube#videoListResponse',\n",
       " 'etag': 'xIXEBoYDN-16MEITvrQUVa0nH4k',\n",
       " 'nextPageToken': None,\n",
       " 'prevPageToken': None,\n",
       " 'pageInfo': {'totalResults': 1, 'resultsPerPage': 1},\n",
       " 'items': [{'kind': 'youtube#video',\n",
       "   'etag': 'uROYIwsOF0hp62hJFDLZeplaiYU',\n",
       "   'id': 'b2tkImEjBHY',\n",
       "   'snippet': {'publishedAt': '2022-10-03T02:30:47Z',\n",
       "    'channelId': 'UCcw5LxOx4RABRj4h3M15NcA',\n",
       "    'title': 'A educação venceu!',\n",
       "    'description': 'Cada um de vocês fez isso acontecer. A luta em defesa da educação vai seguir na Alesp, com o professor Carlos Giannazi. Também tivemos uma grande vitória com a professora Luciene Cavalcante como primeira suplente, em uma eleição tão difícil.\\n\\nA nossa luta continua! Vamos juntos.\\n\\n\\n\\n\\nINSCREVA-SE  NO CANAL  DO DEPUTADO PROFESSOR CARLOS GIANNAZI\\nhttps://www.youtube.com/user/CarlosGiannazi?sub_confirmation=1\\n---\\n// REDES SOCIAIS\\nfacebook.com/carlosgiannazioficial\\ntwitter.com/carlosgiannazi\\ninstagram.com/carlosgiannazioficial\\n\\n// VISITE O SITE \\ncarlosgiannazi.com.br\\n\\n.',\n",
       "    'thumbnails': {'default': {'url': 'https://i.ytimg.com/vi/b2tkImEjBHY/default.jpg',\n",
       "      'width': 120,\n",
       "      'height': 90},\n",
       "     'medium': {'url': 'https://i.ytimg.com/vi/b2tkImEjBHY/mqdefault.jpg',\n",
       "      'width': 320,\n",
       "      'height': 180},\n",
       "     'high': {'url': 'https://i.ytimg.com/vi/b2tkImEjBHY/hqdefault.jpg',\n",
       "      'width': 480,\n",
       "      'height': 360},\n",
       "     'standard': None,\n",
       "     'maxres': None},\n",
       "    'channelTitle': 'Carlos Giannazi',\n",
       "    'tags': ['A educação venceu!'],\n",
       "    'categoryId': '25',\n",
       "    'liveBroadcastContent': 'none',\n",
       "    'defaultLanguage': 'pt-PT',\n",
       "    'localized': {'title': 'A educação venceu!',\n",
       "     'description': 'Cada um de vocês fez isso acontecer. A luta em defesa da educação vai seguir na Alesp, com o professor Carlos Giannazi. Também tivemos uma grande vitória com a professora Luciene Cavalcante como primeira suplente, em uma eleição tão difícil.\\n\\nA nossa luta continua! Vamos juntos.\\n\\n\\n\\n\\nINSCREVA-SE  NO CANAL  DO DEPUTADO PROFESSOR CARLOS GIANNAZI\\nhttps://www.youtube.com/user/CarlosGiannazi?sub_confirmation=1\\n---\\n// REDES SOCIAIS\\nfacebook.com/carlosgiannazioficial\\ntwitter.com/carlosgiannazi\\ninstagram.com/carlosgiannazioficial\\n\\n// VISITE O SITE \\ncarlosgiannazi.com.br\\n\\n.'},\n",
       "    'defaultAudioLanguage': 'pt-BR'},\n",
       "   'contentDetails': {'duration': 'PT22M23S',\n",
       "    'dimension': '2d',\n",
       "    'definition': 'sd',\n",
       "    'caption': 'false',\n",
       "    'licensedContent': False,\n",
       "    'regionRestriction': None,\n",
       "    'contentRating': {},\n",
       "    'projection': 'rectangular',\n",
       "    'hasCustomThumbnail': None},\n",
       "   'status': {'uploadStatus': 'processed',\n",
       "    'failureReason': None,\n",
       "    'rejectionReason': None,\n",
       "    'privacyStatus': 'public',\n",
       "    'publishAt': None,\n",
       "    'license': 'youtube',\n",
       "    'embeddable': True,\n",
       "    'publicStatsViewable': True,\n",
       "    'madeForKids': False,\n",
       "    'selfDeclaredMadeForKids': None},\n",
       "   'statistics': {'viewCount': 9359,\n",
       "    'likeCount': 1450,\n",
       "    'dislikeCount': None,\n",
       "    'commentCount': 480},\n",
       "   'topicDetails': {'topicIds': None,\n",
       "    'relevantTopicIds': None,\n",
       "    'topicCategories': ['https://en.wikipedia.org/wiki/Politics',\n",
       "     'https://en.wikipedia.org/wiki/Society']},\n",
       "   'player': {'embedHtml': '<iframe width=\"480\" height=\"270\" src=\"//www.youtube.com/embed/b2tkImEjBHY\" frameborder=\"0\" allow=\"accelerometer; autoplay; clipboard-write; encrypted-media; gyroscope; picture-in-picture; web-share\" referrerpolicy=\"strict-origin-when-cross-origin\" allowfullscreen></iframe>',\n",
       "    'embedHeight': None,\n",
       "    'embedWidth': None},\n",
       "   'recordingDetails': {'recordingDate': '2022-10-02T00:00:00Z'},\n",
       "   'liveStreamingDetails': {'actualStartTime': '2022-10-03T02:30:47Z',\n",
       "    'actualEndTime': '2022-10-03T02:55:11Z',\n",
       "    'scheduledStartTime': '2022-10-03T02:30:36Z',\n",
       "    'scheduledEndTime': None,\n",
       "    'concurrentViewers': None,\n",
       "    'activeLiveChatId': None}}]}"
      ]
     },
     "execution_count": 31,
     "metadata": {},
     "output_type": "execute_result"
    }
   ],
   "source": [
    "video_mais_comentarios = api.get_video_by_id(video_id=videos_eleicoes_sp.items[0].id.videoId)\n",
    "maximo_comentarios = int(video_mais_comentarios.items[0].statistics.commentCount) if video_mais_comentarios.items[0].statistics.commentCount is not None else 0\n",
    "\n",
    "for video in videos_eleicoes_sp.items[1:]:\n",
    "  video_id = video.id.videoId\n",
    "  video_details = api.get_video_by_id(video_id=video_id)\n",
    "  contagem_comentarios = video_details.items[0].statistics.commentCount\n",
    "  cont = int(contagem_comentarios) if contagem_comentarios is not None else 0\n",
    "  if cont > maximo_comentarios:\n",
    "    video_mais_comentarios = video_details\n",
    "    maximo_comentarios = cont\n",
    "\n",
    "video_mais_comentarios.to_dict()"
   ]
  },
  {
   "cell_type": "markdown",
   "id": "aba09e5d",
   "metadata": {},
   "source": [
    "# 2 - Faça um coletor que capture as reviews da página principal de:\n",
    "https://www.apontador.com.br/local/sp/campinas/faculdades_e_universidades/88Q2E372/unicamp.html."
   ]
  },
  {
   "cell_type": "code",
   "execution_count": null,
   "id": "b227dafc",
   "metadata": {},
   "outputs": [
    {
     "name": "stdout",
     "output_type": "stream",
     "text": [
      "Anderson Thees\n",
      "Eduardo M. Maçan\n",
      "Thiago Ganzarolli Da Silva\n",
      "Miih Moraes\n",
      "Larissa Bannwart\n",
      "Renan Cunha De Sousa\n"
     ]
    }
   ],
   "source": [
    "from bs4 import BeautifulSoup\n",
    "import requests\n",
    "\n",
    "url=\"https://www.apontador.com.br/local/sp/campinas/faculdades_e_universidades/88Q2E372/\"\n",
    "\n",
    "req = requests.get(url)\n",
    "soup = BeautifulSoup(req.content,'html.parser')"
   ]
  },
  {
   "cell_type": "code",
   "execution_count": 6,
   "id": "998a5d98",
   "metadata": {},
   "outputs": [
    {
     "name": "stdout",
     "output_type": "stream",
     "text": [
      "Nome: Anderson Thees - publicada em 19/08/2010 - Comentário: A UNICAMP é uma universidade muito boa. O fato de estar um pouco distante de Campinas (40 mins) promove uma experiência diferenciada, criando uma comunidade muito mais engajada. A qualidade do ensino é de padrão mundial. Orgulho de ser ex-aluno!\n",
      "\n",
      "Nome: Eduardo M. Maçan - publicada em 12/09/2010 - Comentário: Cursei engenharia de computação na Unicamp e foram os melhores anos da minha vida. O ambiente universitário, a abundância de conhecimento ao meu redor em todas as áreas, tudo isso contribuiu para minha formação, não apenas técnica.\n",
      "\n",
      "Voltaria a qualquer momento e a recomendo para quem quiser usufruir do melhor ensino do país, estando apto a pagar com a dedicação necessária.\n",
      "\n",
      "Nome: Thiago Ganzarolli Da Silva - publicada em 25/11/2011 - Comentário: É muito agradável estudar em um campus grande, com muitas locais para estudar: mesas no ciclo básico, biblioteca central ou de outros institutos, uma sala vazia...\n",
      "Uma universidade excelente não só pelo ensino, mas pelos pessoas, colegas e professores que realmente fazem o lugar.\n",
      "\n",
      "Nome: Miih Moraes - publicada em 23/07/2013 - Comentário:  Eita como Barao Geraldo e friooooooo aff\n",
      "\n",
      "Nome: Larissa Bannwart - publicada em 30/12/2014 - Comentário: A unicamp é a maior universidade de Campinas, possuindo, inclusive, ônibus de circulação interna. O campus principal fica localizado no distrito de Barão Geraldo, em Campinas, mas há ainda outros campus menores em Limeira e Piracicaba. A universidade integra o ranking de melhores universidades do Brasil e hospeda em Campinas o Hospital das Clínicas, com atendimento gratuito integralmente pelo SUS, além de também  administrar um hospital em Sumaré. Antigamente, a universidade era conhecida pela complexidade do vestibular, que consistia de forma descritiva em ambas as fases. Hoje, a universidade se adequou ao sistema de respostas alternativas, porém, começou a requisitar 3 redações, e o número de candidatos por vaga continua bastante alto.  Ela também é conhecida pelo investimento em pesquisas e pelo desenvolvimento de novos projetos. \n",
      "A biblioteca central é gigantesca e possui inúmeros títulos disponíveis para locação e, de acordo com o tipo de formação (graduação, mestrado, doutorado), é possível pegar mais livros. \n",
      "Cada curso possui um centro específico, excepto pelo pessoal da Engenharia que possui o Ciclo Básico para todos os cursos. A universidade ainda disponibiliza moradia para os alunos carentes e que comprovarem não ter condições de se manter. \n",
      "\n",
      "Nome: Renan Cunha De Sousa - publicada em 05/01/2015 - Comentário: Unicamp é umas das mais cobiçadas universidades de Campinas e região, devido a sua imensa qualidade, por ser federal se torna a melhor faculdade da região. Sem contar o seu Campus que é sensacional, como se fosse uma cidade, possui quadras com prédios, até uma linha de ônibus circular que permanece dentro do campus apenas devido o seu tamanho. A universidade conta também com o Hospital das Clínicas, gratuito pelo SUS e administrar o hospital de Sumaré. As provas para ingressar na faculdade são por fases com respostas alternativas e requisitando cerca de 3 redações o número de candidatos por vaga é bem alto principalmente no curso de medicina, o problema fica no pagamento do vestibular que é cerca de 120~140 reais para poder executa-la. A graduação é em tempo integral com isso a faculdade possui centro de pesquisas, onde é possível fazer iniciações cientificas ou mini empresas, para que os alunos tenham uma breve praticidade no mercado de trabalho devido a dificuldade para o estagio devido ao tempo integral em aula.\n",
      "\n"
     ]
    }
   ],
   "source": [
    "avaliacoes = soup.find_all(\"div\", class_=\"store-comments__item\")\n",
    "\n",
    "for avaliacao in avaliacoes:\n",
    "  nome = avaliacao.find(\"span\", class_=\"name\").text\n",
    "  data = avaliacao.find(\"span\", class_=\"rate-stars__amount\").text\n",
    "  texto = avaliacao.find(\"div\", class_=\"store-comments__text\").find(\"p\").text\n",
    "  print(f\"Nome: {nome} - {data} - Comentário: {texto}\\n\")\n"
   ]
  },
  {
   "cell_type": "markdown",
   "id": "49df9ae5",
   "metadata": {},
   "source": [
    "# 3 - Crie uma aplicação que usa o Selenium para abrir o site https://www.uol.com.br/ e rolar a página para baixo até o fim do conteúdo."
   ]
  },
  {
   "cell_type": "code",
   "execution_count": 8,
   "id": "e33d5e71",
   "metadata": {},
   "outputs": [],
   "source": [
    "from selenium import webdriver\n",
    "from selenium.webdriver.chrome.options import Options\n",
    "import time\n",
    "\n",
    "options = Options()\n",
    "\n",
    "driver = webdriver.Chrome(options=options)\n",
    "driver.get(\"https://www.uol.com.br/\")\n",
    "\n",
    "last_height = driver.execute_script(\"return document.body.scrollHeight\")\n",
    "\n",
    "while True:\n",
    "  driver.execute_script(\"window.scrollTo(0, document.body.scrollHeight);\")\n",
    "  time.sleep(2)\n",
    "  new_height = driver.execute_script(\"return document.body.scrollHeight\")\n",
    "  if new_height == last_height:\n",
    "    break\n",
    "  last_height = new_height\n",
    "\n",
    "driver.quit()"
   ]
  }
 ],
 "metadata": {
  "kernelspec": {
   "display_name": ".venv",
   "language": "python",
   "name": "python3"
  },
  "language_info": {
   "codemirror_mode": {
    "name": "ipython",
    "version": 3
   },
   "file_extension": ".py",
   "mimetype": "text/x-python",
   "name": "python",
   "nbconvert_exporter": "python",
   "pygments_lexer": "ipython3",
   "version": "3.13.5"
  }
 },
 "nbformat": 4,
 "nbformat_minor": 5
}
