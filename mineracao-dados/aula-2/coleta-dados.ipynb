{
 "cells": [
  {
   "cell_type": "markdown",
   "metadata": {},
   "source": [
    "## Coleta de dados da Web\n",
    "\n",
    "Demonstração de alguns recursos importantes para essa tarefa"
   ]
  },
  {
   "cell_type": "code",
   "execution_count": 3,
   "metadata": {},
   "outputs": [
    {
     "name": "stdout",
     "output_type": "stream",
     "text": [
      "Requirement already satisfied: simplejson==3.20.1 in /Users/pedro/code/tashima42/ciencia-de-dados/.venv/lib/python3.13/site-packages (from -r ../requirements.txt (line 1)) (3.20.1)\n",
      "Requirement already satisfied: python-youtube==0.9.7 in /Users/pedro/code/tashima42/ciencia-de-dados/.venv/lib/python3.13/site-packages (from -r ../requirements.txt (line 2)) (0.9.7)\n",
      "Requirement already satisfied: python-dotenv==1.1.1 in /Users/pedro/code/tashima42/ciencia-de-dados/.venv/lib/python3.13/site-packages (from -r ../requirements.txt (line 3)) (1.1.1)\n",
      "Requirement already satisfied: beautifulsoup4==4.13.4 in /Users/pedro/code/tashima42/ciencia-de-dados/.venv/lib/python3.13/site-packages (from -r ../requirements.txt (line 4)) (4.13.4)\n",
      "Requirement already satisfied: selenium==4.35.0 in /Users/pedro/code/tashima42/ciencia-de-dados/.venv/lib/python3.13/site-packages (from -r ../requirements.txt (line 5)) (4.35.0)\n",
      "Requirement already satisfied: dataclasses-json<0.7.0,>=0.6.0 in /Users/pedro/code/tashima42/ciencia-de-dados/.venv/lib/python3.13/site-packages (from python-youtube==0.9.7->-r ../requirements.txt (line 2)) (0.6.7)\n",
      "Requirement already satisfied: isodate<=0.7.2,>=0.6.0 in /Users/pedro/code/tashima42/ciencia-de-dados/.venv/lib/python3.13/site-packages (from python-youtube==0.9.7->-r ../requirements.txt (line 2)) (0.7.2)\n",
      "Requirement already satisfied: requests<3.0.0,>=2.24.0 in /Users/pedro/code/tashima42/ciencia-de-dados/.venv/lib/python3.13/site-packages (from python-youtube==0.9.7->-r ../requirements.txt (line 2)) (2.32.5)\n",
      "Requirement already satisfied: requests-oauthlib==1.3.0 in /Users/pedro/code/tashima42/ciencia-de-dados/.venv/lib/python3.13/site-packages (from python-youtube==0.9.7->-r ../requirements.txt (line 2)) (1.3.0)\n",
      "Requirement already satisfied: soupsieve>1.2 in /Users/pedro/code/tashima42/ciencia-de-dados/.venv/lib/python3.13/site-packages (from beautifulsoup4==4.13.4->-r ../requirements.txt (line 4)) (2.7)\n",
      "Requirement already satisfied: typing-extensions>=4.0.0 in /Users/pedro/code/tashima42/ciencia-de-dados/.venv/lib/python3.13/site-packages (from beautifulsoup4==4.13.4->-r ../requirements.txt (line 4)) (4.14.1)\n",
      "Requirement already satisfied: urllib3<3.0,>=2.5.0 in /Users/pedro/code/tashima42/ciencia-de-dados/.venv/lib/python3.13/site-packages (from urllib3[socks]<3.0,>=2.5.0->selenium==4.35.0->-r ../requirements.txt (line 5)) (2.5.0)\n",
      "Requirement already satisfied: trio~=0.30.0 in /Users/pedro/code/tashima42/ciencia-de-dados/.venv/lib/python3.13/site-packages (from selenium==4.35.0->-r ../requirements.txt (line 5)) (0.30.0)\n",
      "Requirement already satisfied: trio-websocket~=0.12.2 in /Users/pedro/code/tashima42/ciencia-de-dados/.venv/lib/python3.13/site-packages (from selenium==4.35.0->-r ../requirements.txt (line 5)) (0.12.2)\n",
      "Requirement already satisfied: certifi>=2025.6.15 in /Users/pedro/code/tashima42/ciencia-de-dados/.venv/lib/python3.13/site-packages (from selenium==4.35.0->-r ../requirements.txt (line 5)) (2025.8.3)\n",
      "Requirement already satisfied: websocket-client~=1.8.0 in /Users/pedro/code/tashima42/ciencia-de-dados/.venv/lib/python3.13/site-packages (from selenium==4.35.0->-r ../requirements.txt (line 5)) (1.8.0)\n",
      "Requirement already satisfied: oauthlib>=3.0.0 in /Users/pedro/code/tashima42/ciencia-de-dados/.venv/lib/python3.13/site-packages (from requests-oauthlib==1.3.0->python-youtube==0.9.7->-r ../requirements.txt (line 2)) (3.3.1)\n",
      "Requirement already satisfied: marshmallow<4.0.0,>=3.18.0 in /Users/pedro/code/tashima42/ciencia-de-dados/.venv/lib/python3.13/site-packages (from dataclasses-json<0.7.0,>=0.6.0->python-youtube==0.9.7->-r ../requirements.txt (line 2)) (3.26.1)\n",
      "Requirement already satisfied: typing-inspect<1,>=0.4.0 in /Users/pedro/code/tashima42/ciencia-de-dados/.venv/lib/python3.13/site-packages (from dataclasses-json<0.7.0,>=0.6.0->python-youtube==0.9.7->-r ../requirements.txt (line 2)) (0.9.0)\n",
      "Requirement already satisfied: packaging>=17.0 in /Users/pedro/code/tashima42/ciencia-de-dados/.venv/lib/python3.13/site-packages (from marshmallow<4.0.0,>=3.18.0->dataclasses-json<0.7.0,>=0.6.0->python-youtube==0.9.7->-r ../requirements.txt (line 2)) (25.0)\n",
      "Requirement already satisfied: charset_normalizer<4,>=2 in /Users/pedro/code/tashima42/ciencia-de-dados/.venv/lib/python3.13/site-packages (from requests<3.0.0,>=2.24.0->python-youtube==0.9.7->-r ../requirements.txt (line 2)) (3.4.3)\n",
      "Requirement already satisfied: idna<4,>=2.5 in /Users/pedro/code/tashima42/ciencia-de-dados/.venv/lib/python3.13/site-packages (from requests<3.0.0,>=2.24.0->python-youtube==0.9.7->-r ../requirements.txt (line 2)) (3.10)\n",
      "Requirement already satisfied: attrs>=23.2.0 in /Users/pedro/code/tashima42/ciencia-de-dados/.venv/lib/python3.13/site-packages (from trio~=0.30.0->selenium==4.35.0->-r ../requirements.txt (line 5)) (25.3.0)\n",
      "Requirement already satisfied: sortedcontainers in /Users/pedro/code/tashima42/ciencia-de-dados/.venv/lib/python3.13/site-packages (from trio~=0.30.0->selenium==4.35.0->-r ../requirements.txt (line 5)) (2.4.0)\n",
      "Requirement already satisfied: outcome in /Users/pedro/code/tashima42/ciencia-de-dados/.venv/lib/python3.13/site-packages (from trio~=0.30.0->selenium==4.35.0->-r ../requirements.txt (line 5)) (1.3.0.post0)\n",
      "Requirement already satisfied: sniffio>=1.3.0 in /Users/pedro/code/tashima42/ciencia-de-dados/.venv/lib/python3.13/site-packages (from trio~=0.30.0->selenium==4.35.0->-r ../requirements.txt (line 5)) (1.3.1)\n",
      "Requirement already satisfied: wsproto>=0.14 in /Users/pedro/code/tashima42/ciencia-de-dados/.venv/lib/python3.13/site-packages (from trio-websocket~=0.12.2->selenium==4.35.0->-r ../requirements.txt (line 5)) (1.2.0)\n",
      "Requirement already satisfied: mypy-extensions>=0.3.0 in /Users/pedro/code/tashima42/ciencia-de-dados/.venv/lib/python3.13/site-packages (from typing-inspect<1,>=0.4.0->dataclasses-json<0.7.0,>=0.6.0->python-youtube==0.9.7->-r ../requirements.txt (line 2)) (1.1.0)\n",
      "Requirement already satisfied: pysocks!=1.5.7,<2.0,>=1.5.6 in /Users/pedro/code/tashima42/ciencia-de-dados/.venv/lib/python3.13/site-packages (from urllib3[socks]<3.0,>=2.5.0->selenium==4.35.0->-r ../requirements.txt (line 5)) (1.7.1)\n",
      "Requirement already satisfied: h11<1,>=0.9.0 in /Users/pedro/code/tashima42/ciencia-de-dados/.venv/lib/python3.13/site-packages (from wsproto>=0.14->trio-websocket~=0.12.2->selenium==4.35.0->-r ../requirements.txt (line 5)) (0.16.0)\n"
     ]
    }
   ],
   "source": [
    "#Instalação das apis - caso não tenha instalado\n",
    "!python3 -m pip install -r ../requirements.txt"
   ]
  },
  {
   "cell_type": "markdown",
   "metadata": {},
   "source": [
    "## Usando APIs - YouTube"
   ]
  },
  {
   "cell_type": "markdown",
   "metadata": {},
   "source": [
    "#### Informações do canal"
   ]
  },
  {
   "cell_type": "code",
   "execution_count": 4,
   "metadata": {},
   "outputs": [],
   "source": [
    "from dotenv import dotenv_values\n",
    "config = dotenv_values(\"../.env\")"
   ]
  },
  {
   "cell_type": "code",
   "execution_count": 5,
   "metadata": {},
   "outputs": [],
   "source": [
    "from pyyoutube import Api\n",
    "\n",
    "# get key from .env file\n",
    "api = Api(api_key=config[\"YOUTUBE_APIKEY\"])"
   ]
  },
  {
   "cell_type": "code",
   "execution_count": 6,
   "metadata": {},
   "outputs": [],
   "source": [
    "#channel_by_username = api.get_channel_info(channel_id=\"UC_x5XG1OV2P6uZZ5FSM9Ttw\")\n",
    "channel_by_username = api.get_channel_info(for_username=[\"CNPqOficial\"])"
   ]
  },
  {
   "cell_type": "code",
   "execution_count": 7,
   "metadata": {},
   "outputs": [
    {
     "data": {
      "text/plain": [
       "[Channel(kind='youtube#channel', id='UCXs3LHxIwbfr5_HrySsGXTA')]"
      ]
     },
     "execution_count": 7,
     "metadata": {},
     "output_type": "execute_result"
    }
   ],
   "source": [
    "channel_by_username.items"
   ]
  },
  {
   "cell_type": "code",
   "execution_count": 8,
   "metadata": {},
   "outputs": [
    {
     "data": {
      "text/plain": [
       "{'kind': 'youtube#channel',\n",
       " 'etag': '2VTPk1wmOSoj4SWxB4Gop88GrUk',\n",
       " 'id': 'UCXs3LHxIwbfr5_HrySsGXTA',\n",
       " 'snippet': {'title': 'CNPqOficial',\n",
       "  'description': 'Vídeos sobre ciência, tecnologia e inovação, com destaque para os programas, projetos, ações e eventos do Conselho Nacional de Desenvolvimento Científico e Tecnológico (CNPq).',\n",
       "  'customUrl': '@cnpqoficial',\n",
       "  'publishedAt': '2012-01-11T12:44:41Z',\n",
       "  'thumbnails': {'default': {'url': 'https://yt3.ggpht.com/u-MbKaYv0oeWInoV4kRuWAk4T7LYgg5vr1ZuJI-fEJjKT1t4np5XimItbLRi_Q8jv8RZdPzeFA=s88-c-k-c0x00ffffff-no-rj',\n",
       "    'width': 88,\n",
       "    'height': 88},\n",
       "   'medium': {'url': 'https://yt3.ggpht.com/u-MbKaYv0oeWInoV4kRuWAk4T7LYgg5vr1ZuJI-fEJjKT1t4np5XimItbLRi_Q8jv8RZdPzeFA=s240-c-k-c0x00ffffff-no-rj',\n",
       "    'width': 240,\n",
       "    'height': 240},\n",
       "   'high': {'url': 'https://yt3.ggpht.com/u-MbKaYv0oeWInoV4kRuWAk4T7LYgg5vr1ZuJI-fEJjKT1t4np5XimItbLRi_Q8jv8RZdPzeFA=s800-c-k-c0x00ffffff-no-rj',\n",
       "    'width': 800,\n",
       "    'height': 800},\n",
       "   'standard': None,\n",
       "   'maxres': None},\n",
       "  'defaultLanguage': None,\n",
       "  'localized': {'title': 'CNPqOficial',\n",
       "   'description': 'Vídeos sobre ciência, tecnologia e inovação, com destaque para os programas, projetos, ações e eventos do Conselho Nacional de Desenvolvimento Científico e Tecnológico (CNPq).'},\n",
       "  'country': 'BR'},\n",
       " 'contentDetails': {'relatedPlaylists': {'likes': '',\n",
       "   'uploads': 'UUXs3LHxIwbfr5_HrySsGXTA'}},\n",
       " 'statistics': {'viewCount': 283947,\n",
       "  'subscriberCount': 15300,\n",
       "  'hiddenSubscriberCount': False,\n",
       "  'videoCount': 537},\n",
       " 'topicDetails': {'topicIds': ['/m/01k8wb'],\n",
       "  'topicCategories': ['https://en.wikipedia.org/wiki/Knowledge']},\n",
       " 'status': {'privacyStatus': 'public',\n",
       "  'isLinked': True,\n",
       "  'longUploadsStatus': 'longUploadsUnspecified',\n",
       "  'madeForKids': None,\n",
       "  'selfDeclaredMadeForKids': None},\n",
       " 'brandingSettings': {'channel': {'title': 'CNPqOficial',\n",
       "   'description': 'Vídeos sobre ciência, tecnologia e inovação, com destaque para os programas, projetos, ações e eventos do Conselho Nacional de Desenvolvimento Científico e Tecnológico (CNPq).',\n",
       "   'keywords': 'cnpq ciência tecnologia inovação pesquisa CNPEM',\n",
       "   'trackingAnalyticsAccountId': None,\n",
       "   'moderateComments': None,\n",
       "   'unsubscribedTrailer': 'CsMttfRyVw4',\n",
       "   'defaultLanguage': None,\n",
       "   'country': 'BR'},\n",
       "  'image': {'bannerExternalUrl': 'https://yt3.googleusercontent.com/2xL7lvJAdXyh9Gc4eyIrFUx6YfDHZl8uD4304ounWUpvuNXP9JI-0r-Z2Sp3S195S0W6edirrW8'}},\n",
       " 'auditDetails': None,\n",
       " 'contentOwnerDetails': None,\n",
       " 'localizations': None}"
      ]
     },
     "execution_count": 8,
     "metadata": {},
     "output_type": "execute_result"
    }
   ],
   "source": [
    "channel_by_username.items[0].to_dict()"
   ]
  },
  {
   "cell_type": "markdown",
   "metadata": {},
   "source": [
    "#### Pegar comentários de um vídeo"
   ]
  },
  {
   "cell_type": "code",
   "execution_count": 9,
   "metadata": {},
   "outputs": [],
   "source": [
    "#vídeo: https://www.youtube.com/watch?v=zj1p7i8kMJI\n",
    "ct_by_video = api.get_comment_threads(video_id=\"zj1p7i8kMJI\", count=None)"
   ]
  },
  {
   "cell_type": "code",
   "execution_count": 10,
   "metadata": {},
   "outputs": [
    {
     "data": {
      "text/plain": [
       "[CommentThread(kind='youtube#commentThread', id='UgxS5rZDPHaTN1VSgJV4AaABAg'),\n",
       " CommentThread(kind='youtube#commentThread', id='UgziuSLorz681pSxnQZ4AaABAg')]"
      ]
     },
     "execution_count": 10,
     "metadata": {},
     "output_type": "execute_result"
    }
   ],
   "source": [
    "ct_by_video.items"
   ]
  },
  {
   "cell_type": "code",
   "execution_count": 11,
   "metadata": {},
   "outputs": [
    {
     "data": {
      "text/plain": [
       "{'kind': 'youtube#commentThread',\n",
       " 'etag': '9fdQhkSLo7YQEBxYLHgXklP3kOs',\n",
       " 'id': 'UgxS5rZDPHaTN1VSgJV4AaABAg',\n",
       " 'snippet': {'channelId': 'UCXs3LHxIwbfr5_HrySsGXTA',\n",
       "  'videoId': 'zj1p7i8kMJI',\n",
       "  'topLevelComment': {'kind': 'youtube#comment',\n",
       "   'etag': '4AXuBOLIZi4rDmj5mVaner5v2H0',\n",
       "   'id': 'UgxS5rZDPHaTN1VSgJV4AaABAg',\n",
       "   'snippet': {'authorDisplayName': '@eniopedrotti3598',\n",
       "    'authorProfileImageUrl': 'https://yt3.ggpht.com/ytc/AIdro_kpJUm1XXczk6D7dlNtGArIknPztP7xixuP4WxR0OKbkA=s48-c-k-c0x00ffffff-no-rj',\n",
       "    'authorChannelUrl': 'http://www.youtube.com/@eniopedrotti3598',\n",
       "    'authorChannelId': {'value': 'UC0LahMFhSR-dPxfR2KkAerA'},\n",
       "    'channelId': 'UCXs3LHxIwbfr5_HrySsGXTA',\n",
       "    'videoId': 'zj1p7i8kMJI',\n",
       "    'textDisplay': 'Grande Participação dee nossa colega Catarina.',\n",
       "    'textOriginal': 'Grande Participação dee nossa colega Catarina.',\n",
       "    'parentId': None,\n",
       "    'canRate': True,\n",
       "    'viewerRating': 'none',\n",
       "    'likeCount': 1,\n",
       "    'moderationStatus': None,\n",
       "    'publishedAt': '2023-04-24T11:22:57Z',\n",
       "    'updatedAt': '2023-04-24T11:22:57Z'}},\n",
       "  'canReply': True,\n",
       "  'totalReplyCount': 0,\n",
       "  'isPublic': True},\n",
       " 'replies': None}"
      ]
     },
     "execution_count": 11,
     "metadata": {},
     "output_type": "execute_result"
    }
   ],
   "source": [
    "ct_by_video.items[0].to_dict()"
   ]
  },
  {
   "cell_type": "markdown",
   "metadata": {},
   "source": [
    "#### Pesquisa por palavras chave"
   ]
  },
  {
   "cell_type": "code",
   "execution_count": 12,
   "metadata": {},
   "outputs": [],
   "source": [
    "r = api.search_by_keywords(q=\"data mining\", search_type=[\"channel\",\"video\", \"playlist\"], count=5, limit=5)"
   ]
  },
  {
   "cell_type": "code",
   "execution_count": 13,
   "metadata": {},
   "outputs": [
    {
     "data": {
      "text/plain": [
       "[SearchResult(kind='youtube#searchResult'),\n",
       " SearchResult(kind='youtube#searchResult'),\n",
       " SearchResult(kind='youtube#searchResult'),\n",
       " SearchResult(kind='youtube#searchResult'),\n",
       " SearchResult(kind='youtube#searchResult')]"
      ]
     },
     "execution_count": 13,
     "metadata": {},
     "output_type": "execute_result"
    }
   ],
   "source": [
    "r.items"
   ]
  },
  {
   "cell_type": "code",
   "execution_count": 14,
   "metadata": {},
   "outputs": [
    {
     "data": {
      "text/plain": [
       "{'kind': 'youtube#searchResult',\n",
       " 'etag': 'Jb1Azj76a6pKnNPUTZeIgTfxa6U',\n",
       " 'id': {'kind': 'youtube#video',\n",
       "  'videoId': '7rs0i-9nOjo',\n",
       "  'channelId': None,\n",
       "  'playlistId': None},\n",
       " 'snippet': {'publishedAt': '2022-04-13T12:00:03Z',\n",
       "  'channelId': 'UCKWaEZ-_VweaEx1j62do_vQ',\n",
       "  'title': 'What is Data Mining?',\n",
       "  'description': 'Learn more about Watsonx: https://ibm.biz/BdPuCu What is Data Mining?: https://ibm.biz/data-mining Data Mining Techniques: ...',\n",
       "  'thumbnails': {'default': {'url': 'https://i.ytimg.com/vi/7rs0i-9nOjo/default.jpg',\n",
       "    'width': 120,\n",
       "    'height': 90},\n",
       "   'medium': {'url': 'https://i.ytimg.com/vi/7rs0i-9nOjo/mqdefault.jpg',\n",
       "    'width': 320,\n",
       "    'height': 180},\n",
       "   'high': {'url': 'https://i.ytimg.com/vi/7rs0i-9nOjo/hqdefault.jpg',\n",
       "    'width': 480,\n",
       "    'height': 360},\n",
       "   'standard': None,\n",
       "   'maxres': None},\n",
       "  'channelTitle': 'IBM Technology',\n",
       "  'liveBroadcastContent': 'none'}}"
      ]
     },
     "execution_count": 14,
     "metadata": {},
     "output_type": "execute_result"
    }
   ],
   "source": [
    "r.items[0].to_dict()"
   ]
  },
  {
   "cell_type": "markdown",
   "metadata": {},
   "source": [
    "#### Pesquisa geográfica"
   ]
  },
  {
   "cell_type": "code",
   "execution_count": 15,
   "metadata": {},
   "outputs": [],
   "source": [
    "r = api.search(location=\"-25.430385, -49.264806\",\n",
    "               location_radius=\"10mi\",\n",
    "               q=\"economia\",\n",
    "               parts=[\"snippet\"],\n",
    "               count=5,\n",
    "               published_after=\"2020-02-01T00:00:00Z\",\n",
    "               published_before=\"2020-03-01T00:00:00Z\",\n",
    "               safe_search=\"moderate\",\n",
    "               search_type=\"video\")"
   ]
  },
  {
   "cell_type": "code",
   "execution_count": 16,
   "metadata": {},
   "outputs": [
    {
     "data": {
      "text/plain": [
       "[SearchResult(kind='youtube#searchResult'),\n",
       " SearchResult(kind='youtube#searchResult'),\n",
       " SearchResult(kind='youtube#searchResult'),\n",
       " SearchResult(kind='youtube#searchResult'),\n",
       " SearchResult(kind='youtube#searchResult')]"
      ]
     },
     "execution_count": 16,
     "metadata": {},
     "output_type": "execute_result"
    }
   ],
   "source": [
    "r.items"
   ]
  },
  {
   "cell_type": "code",
   "execution_count": 17,
   "metadata": {},
   "outputs": [
    {
     "data": {
      "text/plain": [
       "{'kind': 'youtube#searchResult',\n",
       " 'etag': '1FTLwiwS8Dfb1V9sXXmL8AFVcho',\n",
       " 'id': {'kind': 'youtube#video',\n",
       "  'videoId': 'pfQbrJENOeg',\n",
       "  'channelId': None,\n",
       "  'playlistId': None},\n",
       " 'snippet': {'publishedAt': '2020-02-26T22:48:54Z',\n",
       "  'channelId': 'UCEZ4KAdrizIFfcG47majdjg',\n",
       "  'title': '3 MENTIRAS sobre ATERRAMENTO! Aterramento Economiza Energia? Protege Contra Raio?',\n",
       "  'description': 'Conheça Meu Curso de Eletricista ✓ https://hotm.art/ELETRICISTATOP Curso de NR 10 Básico com CERTIFICADO Válido ...',\n",
       "  'thumbnails': {'default': {'url': 'https://i.ytimg.com/vi/pfQbrJENOeg/default.jpg',\n",
       "    'width': 120,\n",
       "    'height': 90},\n",
       "   'medium': {'url': 'https://i.ytimg.com/vi/pfQbrJENOeg/mqdefault.jpg',\n",
       "    'width': 320,\n",
       "    'height': 180},\n",
       "   'high': {'url': 'https://i.ytimg.com/vi/pfQbrJENOeg/hqdefault.jpg',\n",
       "    'width': 480,\n",
       "    'height': 360},\n",
       "   'standard': None,\n",
       "   'maxres': None},\n",
       "  'channelTitle': 'Leonidas Borges Elétrica',\n",
       "  'liveBroadcastContent': 'none'}}"
      ]
     },
     "execution_count": 17,
     "metadata": {},
     "output_type": "execute_result"
    }
   ],
   "source": [
    "r.items[0].to_dict()"
   ]
  },
  {
   "cell_type": "markdown",
   "metadata": {},
   "source": [
    "### Processando jsons"
   ]
  },
  {
   "cell_type": "code",
   "execution_count": 18,
   "metadata": {},
   "outputs": [
    {
     "name": "stdout",
     "output_type": "stream",
     "text": [
      "616333141884674048\n",
      "Wed Jul 01 19:50:46 +0000 2015\n",
      "Wei Xu\n",
      "WNUT15\n"
     ]
    }
   ],
   "source": [
    "import simplejson as json\n",
    "\n",
    "# Arquivo com Tweets\n",
    "tweets_file = open('tweet.txt', \"r\")\n",
    "\n",
    "#le a linha do arquivo\n",
    "tweet_json = tweets_file.readline()\n",
    "\n",
    "#imprime a linha lida\n",
    "#print  tweet_json\n",
    "  \n",
    "#remove espacos em branco\n",
    "strippedJson = tweet_json.strip()\n",
    "  \n",
    "#converte uma string json em um objeto python\n",
    "tweet = json.loads(strippedJson)\n",
    "  \n",
    "print(tweet['id']) # ID do tweet\n",
    "print(tweet['created_at']) # data de postagem\n",
    "#print(tweet['text']) # texto do tweet\n",
    " \n",
    "#print(tweet['user']['id']) # id do usuario que postou\n",
    "print(tweet['user']['name']) # nome do usuario\n",
    "#print (tweet['user']['screen_name']) # nome da conta do usuario \n",
    "\n",
    "#print(tweet['entities'])\n",
    "#print(tweet['entities']['hashtags'])\n",
    "print(tweet['entities']['hashtags'][2]['text'])\n"
   ]
  },
  {
   "cell_type": "markdown",
   "metadata": {},
   "source": [
    "## Web crawlers "
   ]
  },
  {
   "cell_type": "markdown",
   "metadata": {},
   "source": [
    "#### Exemplo 1"
   ]
  },
  {
   "cell_type": "code",
   "execution_count": 19,
   "metadata": {},
   "outputs": [
    {
     "name": "stdout",
     "output_type": "stream",
     "text": [
      "<html>\n",
      " <body>\n",
      "  <p>\n",
      "   Bom dia, CSBC!\n",
      "  </p>\n",
      " </body>\n",
      "</html>\n",
      "\n"
     ]
    }
   ],
   "source": [
    "from bs4 import BeautifulSoup\n",
    "\n",
    "pagina = '<html><body><p>Bom dia, CSBC!</p></body></html>'\n",
    "soup = BeautifulSoup(pagina,'html.parser')\n",
    "print(soup.prettify())"
   ]
  },
  {
   "cell_type": "markdown",
   "metadata": {},
   "source": [
    "#### Exemplo 2"
   ]
  },
  {
   "cell_type": "code",
   "execution_count": 20,
   "metadata": {},
   "outputs": [
    {
     "name": "stdout",
     "output_type": "stream",
     "text": [
      "[<p>Bom dia, CSBC!</p>, <p>teste</p>]\n",
      "<p>Bom dia, CSBC!</p>\n"
     ]
    }
   ],
   "source": [
    "pagina = '<html><body><p>Bom dia, CSBC!</p><p>teste</p></body></html>'\n",
    "soup = BeautifulSoup(pagina,'html.parser')\n",
    "\n",
    "allP = soup.find_all('p')\n",
    "print(allP)\n",
    "\n",
    "print(allP[0])"
   ]
  },
  {
   "cell_type": "markdown",
   "metadata": {},
   "source": [
    "#### Exemplo 3"
   ]
  },
  {
   "cell_type": "code",
   "execution_count": 21,
   "metadata": {},
   "outputs": [
    {
     "name": "stdout",
     "output_type": "stream",
     "text": [
      "[<tr><td>one</td><td>two</td></tr>]\n",
      "[<td>one</td>, <td>two</td>]\n",
      "<td>one</td>\n",
      "<td>two</td>\n",
      "one\n",
      "two\n"
     ]
    }
   ],
   "source": [
    "pagina = \"<table><tr><td>one</td><td>two</td></tr></table>\"\n",
    "soup = BeautifulSoup(pagina,'html.parser')\n",
    "\n",
    "allTR = soup.find_all('tr')\n",
    "print(allTR)\n",
    "\n",
    "allTD = soup.find_all('td')\n",
    "print(allTD)\n",
    "\n",
    "\n",
    "for t in soup.find_all('td'):\n",
    "    print(t)\n",
    "\n",
    "for t in soup.find_all('td'):\n",
    "    print(t.text)\n"
   ]
  },
  {
   "cell_type": "markdown",
   "metadata": {},
   "source": [
    "#### Exemplo - Wikipedia"
   ]
  },
  {
   "cell_type": "code",
   "execution_count": 22,
   "metadata": {},
   "outputs": [
    {
     "name": "stdout",
     "output_type": "stream",
     "text": [
      "<h1 class=\"firstHeading mw-first-heading\" id=\"firstHeading\"><span class=\"mw-page-title-main\">Universidade Tecnológica Federal do Paraná</span></h1>\n",
      "Universidade Tecnológica Federal do Paraná\n"
     ]
    }
   ],
   "source": [
    "import requests\n",
    "\n",
    "url=\"https://pt.wikipedia.org/wiki/Universidade_Tecnol%C3%B3gica_Federal_do_Paran%C3%A1\"\n",
    "\n",
    "##retorna o conteudo da pagina\n",
    "req = requests.get(url)\n",
    "\n",
    "##transforma o conteudo da pagina em um objeto BeautifulSoup\n",
    "soup = BeautifulSoup(req.content,'html.parser')\n",
    "\n",
    "nomeBruto = soup.find(\"h1\",{\"id\":\"firstHeading\"})\n",
    "\n",
    "print(nomeBruto)\n",
    "\n",
    "print(nomeBruto.text)\n"
   ]
  },
  {
   "cell_type": "markdown",
   "metadata": {},
   "source": [
    "### Selenium"
   ]
  },
  {
   "cell_type": "code",
   "execution_count": 23,
   "metadata": {},
   "outputs": [
    {
     "name": "stdout",
     "output_type": "stream",
     "text": [
      "AJAX\n",
      "AJAX is not a programming language.\n",
      "AJAX is a technique for accessing web servers from a web page.\n",
      "AJAX stands for Asynchronous JavaScript And XML.\n"
     ]
    }
   ],
   "source": [
    "from selenium import webdriver\n",
    "from selenium.webdriver.support.ui import WebDriverWait\n",
    "from selenium.webdriver.support import expected_conditions as ec\n",
    "from selenium.webdriver.common.by import By\n",
    "from selenium.webdriver.chrome.options import Options\n",
    "from selenium.webdriver.chrome.service import Service\n",
    "from bs4 import BeautifulSoup\n",
    "import time\n",
    "\n",
    "options = Options()\n",
    "# options.add_argument('--headless')  # Executa o Chrome sem abrir o navegador\n",
    "\n",
    "# Inicializa o Chrome driver\n",
    "driver = webdriver.Chrome(options=options)\n",
    "\n",
    "try:\n",
    "    driver.get(\"https://www.w3schools.com/xml/ajax_intro.asp\")  \n",
    "    \n",
    "    # Aguarde o carregamento completo da página\n",
    "    WebDriverWait(driver, 30).until(\n",
    "        ec.presence_of_element_located((By.XPATH, '//div[@id=\"demo\"]'))\n",
    "    )\n",
    "    \n",
    "    # Encontre e clique no botão\n",
    "    button = WebDriverWait(driver, 30).until(\n",
    "        ec.element_to_be_clickable((By.XPATH, '//div[@id=\"demo\"]/button'))\n",
    "    )\n",
    "    \n",
    "    # adicional delay só para dar tempo de vermos acontecer o clique no botão\n",
    "    time.sleep(1)\n",
    "    \n",
    "    button.click()\n",
    "    \n",
    "    # Aguarde o carregamento do conteúdo AJAX\n",
    "    WebDriverWait(driver, 30).until(\n",
    "        ec.text_to_be_present_in_element((By.XPATH, '//div[@id=\"demo\"]/h1'), 'AJAX')\n",
    "    )\n",
    "    \n",
    "    # Pequeno delay adicional para garantir que todo o conteúdo seja carregado\n",
    "    time.sleep(1)\n",
    "    \n",
    "    # Pega o fonte da página\n",
    "    page_source = driver.page_source    \n",
    "    \n",
    "    soup = BeautifulSoup(page_source, \"html.parser\")\n",
    "    content = soup.find(\"div\", {\"id\": \"demo\"}) \n",
    "    print(content.text)\n",
    "    \n",
    "finally:\n",
    "    driver.quit()"
   ]
  }
 ],
 "metadata": {
  "kernelspec": {
   "display_name": ".venv",
   "language": "python",
   "name": "python3"
  },
  "language_info": {
   "codemirror_mode": {
    "name": "ipython",
    "version": 3
   },
   "file_extension": ".py",
   "mimetype": "text/x-python",
   "name": "python",
   "nbconvert_exporter": "python",
   "pygments_lexer": "ipython3",
   "version": "3.13.5"
  }
 },
 "nbformat": 4,
 "nbformat_minor": 4
}
