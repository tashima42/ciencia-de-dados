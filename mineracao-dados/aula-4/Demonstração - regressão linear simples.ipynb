{
 "cells": [
  {
   "cell_type": "markdown",
   "metadata": {},
   "source": [
    "# Demonstração de regressão"
   ]
  },
  {
   "cell_type": "markdown",
   "metadata": {},
   "source": [
    "### Carregando o dataset e realizando procedimentos iniciais"
   ]
  },
  {
   "cell_type": "code",
   "execution_count": 1,
   "id": "10687c86",
   "metadata": {
    "vscode": {
     "languageId": "shellscript"
    }
   },
   "outputs": [
    {
     "name": "stdout",
     "output_type": "stream",
     "text": [
      "Requirement already satisfied: simplejson==3.20.1 in /Users/pedro/code/tashima42/ciencia-de-dados/mineracao-dados/venv/lib/python3.13/site-packages (from -r ../requirements.txt (line 1)) (3.20.1)\n",
      "Requirement already satisfied: python-youtube==0.9.7 in /Users/pedro/code/tashima42/ciencia-de-dados/mineracao-dados/venv/lib/python3.13/site-packages (from -r ../requirements.txt (line 2)) (0.9.7)\n",
      "Requirement already satisfied: python-dotenv==1.1.1 in /Users/pedro/code/tashima42/ciencia-de-dados/mineracao-dados/venv/lib/python3.13/site-packages (from -r ../requirements.txt (line 3)) (1.1.1)\n",
      "Requirement already satisfied: beautifulsoup4==4.13.4 in /Users/pedro/code/tashima42/ciencia-de-dados/mineracao-dados/venv/lib/python3.13/site-packages (from -r ../requirements.txt (line 4)) (4.13.4)\n",
      "Requirement already satisfied: selenium==4.35.0 in /Users/pedro/code/tashima42/ciencia-de-dados/mineracao-dados/venv/lib/python3.13/site-packages (from -r ../requirements.txt (line 5)) (4.35.0)\n",
      "Requirement already satisfied: numpy==2.3.2 in /Users/pedro/code/tashima42/ciencia-de-dados/mineracao-dados/venv/lib/python3.13/site-packages (from -r ../requirements.txt (line 6)) (2.3.2)\n",
      "Requirement already satisfied: pandas==2.3.2 in /Users/pedro/code/tashima42/ciencia-de-dados/mineracao-dados/venv/lib/python3.13/site-packages (from -r ../requirements.txt (line 7)) (2.3.2)\n",
      "Requirement already satisfied: statsmodels==0.14.5 in /Users/pedro/code/tashima42/ciencia-de-dados/mineracao-dados/venv/lib/python3.13/site-packages (from -r ../requirements.txt (line 8)) (0.14.5)\n",
      "Requirement already satisfied: scikit-learn==1.7.1 in /Users/pedro/code/tashima42/ciencia-de-dados/mineracao-dados/venv/lib/python3.13/site-packages (from -r ../requirements.txt (line 9)) (1.7.1)\n",
      "Requirement already satisfied: matplotlib==3.10.5 in /Users/pedro/code/tashima42/ciencia-de-dados/mineracao-dados/venv/lib/python3.13/site-packages (from -r ../requirements.txt (line 10)) (3.10.5)\n",
      "Collecting seaborn==0.13.2 (from -r ../requirements.txt (line 11))\n",
      "  Using cached seaborn-0.13.2-py3-none-any.whl.metadata (5.4 kB)\n",
      "Requirement already satisfied: dataclasses-json<0.7.0,>=0.6.0 in /Users/pedro/code/tashima42/ciencia-de-dados/mineracao-dados/venv/lib/python3.13/site-packages (from python-youtube==0.9.7->-r ../requirements.txt (line 2)) (0.6.7)\n",
      "Requirement already satisfied: isodate<=0.7.2,>=0.6.0 in /Users/pedro/code/tashima42/ciencia-de-dados/mineracao-dados/venv/lib/python3.13/site-packages (from python-youtube==0.9.7->-r ../requirements.txt (line 2)) (0.7.2)\n",
      "Requirement already satisfied: requests<3.0.0,>=2.24.0 in /Users/pedro/code/tashima42/ciencia-de-dados/mineracao-dados/venv/lib/python3.13/site-packages (from python-youtube==0.9.7->-r ../requirements.txt (line 2)) (2.32.5)\n",
      "Requirement already satisfied: requests-oauthlib==1.3.0 in /Users/pedro/code/tashima42/ciencia-de-dados/mineracao-dados/venv/lib/python3.13/site-packages (from python-youtube==0.9.7->-r ../requirements.txt (line 2)) (1.3.0)\n",
      "Requirement already satisfied: soupsieve>1.2 in /Users/pedro/code/tashima42/ciencia-de-dados/mineracao-dados/venv/lib/python3.13/site-packages (from beautifulsoup4==4.13.4->-r ../requirements.txt (line 4)) (2.7)\n",
      "Requirement already satisfied: typing-extensions>=4.0.0 in /Users/pedro/code/tashima42/ciencia-de-dados/mineracao-dados/venv/lib/python3.13/site-packages (from beautifulsoup4==4.13.4->-r ../requirements.txt (line 4)) (4.14.1)\n",
      "Requirement already satisfied: urllib3<3.0,>=2.5.0 in /Users/pedro/code/tashima42/ciencia-de-dados/mineracao-dados/venv/lib/python3.13/site-packages (from urllib3[socks]<3.0,>=2.5.0->selenium==4.35.0->-r ../requirements.txt (line 5)) (2.5.0)\n",
      "Requirement already satisfied: trio~=0.30.0 in /Users/pedro/code/tashima42/ciencia-de-dados/mineracao-dados/venv/lib/python3.13/site-packages (from selenium==4.35.0->-r ../requirements.txt (line 5)) (0.30.0)\n",
      "Requirement already satisfied: trio-websocket~=0.12.2 in /Users/pedro/code/tashima42/ciencia-de-dados/mineracao-dados/venv/lib/python3.13/site-packages (from selenium==4.35.0->-r ../requirements.txt (line 5)) (0.12.2)\n",
      "Requirement already satisfied: certifi>=2025.6.15 in /Users/pedro/code/tashima42/ciencia-de-dados/mineracao-dados/venv/lib/python3.13/site-packages (from selenium==4.35.0->-r ../requirements.txt (line 5)) (2025.8.3)\n",
      "Requirement already satisfied: websocket-client~=1.8.0 in /Users/pedro/code/tashima42/ciencia-de-dados/mineracao-dados/venv/lib/python3.13/site-packages (from selenium==4.35.0->-r ../requirements.txt (line 5)) (1.8.0)\n",
      "Requirement already satisfied: python-dateutil>=2.8.2 in /Users/pedro/code/tashima42/ciencia-de-dados/mineracao-dados/venv/lib/python3.13/site-packages (from pandas==2.3.2->-r ../requirements.txt (line 7)) (2.9.0.post0)\n",
      "Requirement already satisfied: pytz>=2020.1 in /Users/pedro/code/tashima42/ciencia-de-dados/mineracao-dados/venv/lib/python3.13/site-packages (from pandas==2.3.2->-r ../requirements.txt (line 7)) (2025.2)\n",
      "Requirement already satisfied: tzdata>=2022.7 in /Users/pedro/code/tashima42/ciencia-de-dados/mineracao-dados/venv/lib/python3.13/site-packages (from pandas==2.3.2->-r ../requirements.txt (line 7)) (2025.2)\n",
      "Requirement already satisfied: scipy!=1.9.2,>=1.8 in /Users/pedro/code/tashima42/ciencia-de-dados/mineracao-dados/venv/lib/python3.13/site-packages (from statsmodels==0.14.5->-r ../requirements.txt (line 8)) (1.16.1)\n",
      "Requirement already satisfied: patsy>=0.5.6 in /Users/pedro/code/tashima42/ciencia-de-dados/mineracao-dados/venv/lib/python3.13/site-packages (from statsmodels==0.14.5->-r ../requirements.txt (line 8)) (1.0.1)\n",
      "Requirement already satisfied: packaging>=21.3 in /Users/pedro/code/tashima42/ciencia-de-dados/mineracao-dados/venv/lib/python3.13/site-packages (from statsmodels==0.14.5->-r ../requirements.txt (line 8)) (25.0)\n",
      "Requirement already satisfied: joblib>=1.2.0 in /Users/pedro/code/tashima42/ciencia-de-dados/mineracao-dados/venv/lib/python3.13/site-packages (from scikit-learn==1.7.1->-r ../requirements.txt (line 9)) (1.5.1)\n",
      "Requirement already satisfied: threadpoolctl>=3.1.0 in /Users/pedro/code/tashima42/ciencia-de-dados/mineracao-dados/venv/lib/python3.13/site-packages (from scikit-learn==1.7.1->-r ../requirements.txt (line 9)) (3.6.0)\n",
      "Requirement already satisfied: contourpy>=1.0.1 in /Users/pedro/code/tashima42/ciencia-de-dados/mineracao-dados/venv/lib/python3.13/site-packages (from matplotlib==3.10.5->-r ../requirements.txt (line 10)) (1.3.3)\n",
      "Requirement already satisfied: cycler>=0.10 in /Users/pedro/code/tashima42/ciencia-de-dados/mineracao-dados/venv/lib/python3.13/site-packages (from matplotlib==3.10.5->-r ../requirements.txt (line 10)) (0.12.1)\n",
      "Requirement already satisfied: fonttools>=4.22.0 in /Users/pedro/code/tashima42/ciencia-de-dados/mineracao-dados/venv/lib/python3.13/site-packages (from matplotlib==3.10.5->-r ../requirements.txt (line 10)) (4.59.1)\n",
      "Requirement already satisfied: kiwisolver>=1.3.1 in /Users/pedro/code/tashima42/ciencia-de-dados/mineracao-dados/venv/lib/python3.13/site-packages (from matplotlib==3.10.5->-r ../requirements.txt (line 10)) (1.4.9)\n",
      "Requirement already satisfied: pillow>=8 in /Users/pedro/code/tashima42/ciencia-de-dados/mineracao-dados/venv/lib/python3.13/site-packages (from matplotlib==3.10.5->-r ../requirements.txt (line 10)) (11.3.0)\n",
      "Requirement already satisfied: pyparsing>=2.3.1 in /Users/pedro/code/tashima42/ciencia-de-dados/mineracao-dados/venv/lib/python3.13/site-packages (from matplotlib==3.10.5->-r ../requirements.txt (line 10)) (3.2.3)\n",
      "Requirement already satisfied: oauthlib>=3.0.0 in /Users/pedro/code/tashima42/ciencia-de-dados/mineracao-dados/venv/lib/python3.13/site-packages (from requests-oauthlib==1.3.0->python-youtube==0.9.7->-r ../requirements.txt (line 2)) (3.3.1)\n",
      "Requirement already satisfied: marshmallow<4.0.0,>=3.18.0 in /Users/pedro/code/tashima42/ciencia-de-dados/mineracao-dados/venv/lib/python3.13/site-packages (from dataclasses-json<0.7.0,>=0.6.0->python-youtube==0.9.7->-r ../requirements.txt (line 2)) (3.26.1)\n",
      "Requirement already satisfied: typing-inspect<1,>=0.4.0 in /Users/pedro/code/tashima42/ciencia-de-dados/mineracao-dados/venv/lib/python3.13/site-packages (from dataclasses-json<0.7.0,>=0.6.0->python-youtube==0.9.7->-r ../requirements.txt (line 2)) (0.9.0)\n",
      "Requirement already satisfied: charset_normalizer<4,>=2 in /Users/pedro/code/tashima42/ciencia-de-dados/mineracao-dados/venv/lib/python3.13/site-packages (from requests<3.0.0,>=2.24.0->python-youtube==0.9.7->-r ../requirements.txt (line 2)) (3.4.3)\n",
      "Requirement already satisfied: idna<4,>=2.5 in /Users/pedro/code/tashima42/ciencia-de-dados/mineracao-dados/venv/lib/python3.13/site-packages (from requests<3.0.0,>=2.24.0->python-youtube==0.9.7->-r ../requirements.txt (line 2)) (3.10)\n",
      "Requirement already satisfied: attrs>=23.2.0 in /Users/pedro/code/tashima42/ciencia-de-dados/mineracao-dados/venv/lib/python3.13/site-packages (from trio~=0.30.0->selenium==4.35.0->-r ../requirements.txt (line 5)) (25.3.0)\n",
      "Requirement already satisfied: sortedcontainers in /Users/pedro/code/tashima42/ciencia-de-dados/mineracao-dados/venv/lib/python3.13/site-packages (from trio~=0.30.0->selenium==4.35.0->-r ../requirements.txt (line 5)) (2.4.0)\n",
      "Requirement already satisfied: outcome in /Users/pedro/code/tashima42/ciencia-de-dados/mineracao-dados/venv/lib/python3.13/site-packages (from trio~=0.30.0->selenium==4.35.0->-r ../requirements.txt (line 5)) (1.3.0.post0)\n",
      "Requirement already satisfied: sniffio>=1.3.0 in /Users/pedro/code/tashima42/ciencia-de-dados/mineracao-dados/venv/lib/python3.13/site-packages (from trio~=0.30.0->selenium==4.35.0->-r ../requirements.txt (line 5)) (1.3.1)\n",
      "Requirement already satisfied: wsproto>=0.14 in /Users/pedro/code/tashima42/ciencia-de-dados/mineracao-dados/venv/lib/python3.13/site-packages (from trio-websocket~=0.12.2->selenium==4.35.0->-r ../requirements.txt (line 5)) (1.2.0)\n",
      "Requirement already satisfied: mypy-extensions>=0.3.0 in /Users/pedro/code/tashima42/ciencia-de-dados/mineracao-dados/venv/lib/python3.13/site-packages (from typing-inspect<1,>=0.4.0->dataclasses-json<0.7.0,>=0.6.0->python-youtube==0.9.7->-r ../requirements.txt (line 2)) (1.1.0)\n",
      "Requirement already satisfied: pysocks!=1.5.7,<2.0,>=1.5.6 in /Users/pedro/code/tashima42/ciencia-de-dados/mineracao-dados/venv/lib/python3.13/site-packages (from urllib3[socks]<3.0,>=2.5.0->selenium==4.35.0->-r ../requirements.txt (line 5)) (1.7.1)\n",
      "Requirement already satisfied: six>=1.5 in /Users/pedro/code/tashima42/ciencia-de-dados/mineracao-dados/venv/lib/python3.13/site-packages (from python-dateutil>=2.8.2->pandas==2.3.2->-r ../requirements.txt (line 7)) (1.17.0)\n",
      "Requirement already satisfied: h11<1,>=0.9.0 in /Users/pedro/code/tashima42/ciencia-de-dados/mineracao-dados/venv/lib/python3.13/site-packages (from wsproto>=0.14->trio-websocket~=0.12.2->selenium==4.35.0->-r ../requirements.txt (line 5)) (0.16.0)\n",
      "Using cached seaborn-0.13.2-py3-none-any.whl (294 kB)\n",
      "Installing collected packages: seaborn\n",
      "Successfully installed seaborn-0.13.2\n"
     ]
    }
   ],
   "source": [
    "!python3 -m pip install -r ../requirements.txt"
   ]
  },
  {
   "cell_type": "code",
   "execution_count": 3,
   "metadata": {},
   "outputs": [
    {
     "data": {
      "text/html": [
       "<div>\n",
       "<style scoped>\n",
       "    .dataframe tbody tr th:only-of-type {\n",
       "        vertical-align: middle;\n",
       "    }\n",
       "\n",
       "    .dataframe tbody tr th {\n",
       "        vertical-align: top;\n",
       "    }\n",
       "\n",
       "    .dataframe thead th {\n",
       "        text-align: right;\n",
       "    }\n",
       "</style>\n",
       "<table border=\"1\" class=\"dataframe\">\n",
       "  <thead>\n",
       "    <tr style=\"text-align: right;\">\n",
       "      <th></th>\n",
       "      <th>Unnamed: 0</th>\n",
       "      <th>TV</th>\n",
       "      <th>Radio</th>\n",
       "      <th>Newspaper</th>\n",
       "      <th>Sales</th>\n",
       "    </tr>\n",
       "  </thead>\n",
       "  <tbody>\n",
       "    <tr>\n",
       "      <th>0</th>\n",
       "      <td>1</td>\n",
       "      <td>230.1</td>\n",
       "      <td>37.8</td>\n",
       "      <td>69.2</td>\n",
       "      <td>22.1</td>\n",
       "    </tr>\n",
       "    <tr>\n",
       "      <th>1</th>\n",
       "      <td>2</td>\n",
       "      <td>44.5</td>\n",
       "      <td>39.3</td>\n",
       "      <td>45.1</td>\n",
       "      <td>10.4</td>\n",
       "    </tr>\n",
       "    <tr>\n",
       "      <th>2</th>\n",
       "      <td>3</td>\n",
       "      <td>17.2</td>\n",
       "      <td>45.9</td>\n",
       "      <td>69.3</td>\n",
       "      <td>9.3</td>\n",
       "    </tr>\n",
       "    <tr>\n",
       "      <th>3</th>\n",
       "      <td>4</td>\n",
       "      <td>151.5</td>\n",
       "      <td>41.3</td>\n",
       "      <td>58.5</td>\n",
       "      <td>18.5</td>\n",
       "    </tr>\n",
       "    <tr>\n",
       "      <th>4</th>\n",
       "      <td>5</td>\n",
       "      <td>180.8</td>\n",
       "      <td>10.8</td>\n",
       "      <td>58.4</td>\n",
       "      <td>12.9</td>\n",
       "    </tr>\n",
       "  </tbody>\n",
       "</table>\n",
       "</div>"
      ],
      "text/plain": [
       "   Unnamed: 0     TV  Radio  Newspaper  Sales\n",
       "0           1  230.1   37.8       69.2   22.1\n",
       "1           2   44.5   39.3       45.1   10.4\n",
       "2           3   17.2   45.9       69.3    9.3\n",
       "3           4  151.5   41.3       58.5   18.5\n",
       "4           5  180.8   10.8       58.4   12.9"
      ]
     },
     "execution_count": 3,
     "metadata": {},
     "output_type": "execute_result"
    }
   ],
   "source": [
    "import pandas as pd\n",
    "import numpy as np\n",
    "\n",
    "dataset=pd.read_csv('../data/Advertising.csv')\n",
    "dataset.head()"
   ]
  },
  {
   "cell_type": "code",
   "execution_count": 15,
   "metadata": {},
   "outputs": [
    {
     "data": {
      "text/plain": [
       "Unnamed: 0      int64\n",
       "TV            float64\n",
       "Radio         float64\n",
       "Newspaper     float64\n",
       "Sales         float64\n",
       "dtype: object"
      ]
     },
     "execution_count": 15,
     "metadata": {},
     "output_type": "execute_result"
    }
   ],
   "source": [
    "dataset.dtypes"
   ]
  },
  {
   "cell_type": "code",
   "execution_count": 16,
   "metadata": {},
   "outputs": [],
   "source": [
    "X=dataset[['TV','Radio','Newspaper']]\n",
    "y=dataset['Sales']"
   ]
  },
  {
   "cell_type": "markdown",
   "metadata": {},
   "source": [
    "# Regressão linear simples"
   ]
  },
  {
   "cell_type": "code",
   "execution_count": 17,
   "metadata": {},
   "outputs": [
    {
     "data": {
      "text/html": [
       "<table class=\"simpletable\">\n",
       "<caption>OLS Regression Results</caption>\n",
       "<tr>\n",
       "  <th>Dep. Variable:</th>          <td>Sales</td>      <th>  R-squared:         </th> <td>   0.332</td>\n",
       "</tr>\n",
       "<tr>\n",
       "  <th>Model:</th>                   <td>OLS</td>       <th>  Adj. R-squared:    </th> <td>   0.329</td>\n",
       "</tr>\n",
       "<tr>\n",
       "  <th>Method:</th>             <td>Least Squares</td>  <th>  F-statistic:       </th> <td>   98.42</td>\n",
       "</tr>\n",
       "<tr>\n",
       "  <th>Date:</th>             <td>Tue, 26 Aug 2025</td> <th>  Prob (F-statistic):</th> <td>4.35e-19</td>\n",
       "</tr>\n",
       "<tr>\n",
       "  <th>Time:</th>                 <td>20:24:48</td>     <th>  Log-Likelihood:    </th> <td> -573.34</td>\n",
       "</tr>\n",
       "<tr>\n",
       "  <th>No. Observations:</th>      <td>   200</td>      <th>  AIC:               </th> <td>   1151.</td>\n",
       "</tr>\n",
       "<tr>\n",
       "  <th>Df Residuals:</th>          <td>   198</td>      <th>  BIC:               </th> <td>   1157.</td>\n",
       "</tr>\n",
       "<tr>\n",
       "  <th>Df Model:</th>              <td>     1</td>      <th>                     </th>     <td> </td>   \n",
       "</tr>\n",
       "<tr>\n",
       "  <th>Covariance Type:</th>      <td>nonrobust</td>    <th>                     </th>     <td> </td>   \n",
       "</tr>\n",
       "</table>\n",
       "<table class=\"simpletable\">\n",
       "<tr>\n",
       "    <td></td>       <th>coef</th>     <th>std err</th>      <th>t</th>      <th>P>|t|</th>  <th>[0.025</th>    <th>0.975]</th>  \n",
       "</tr>\n",
       "<tr>\n",
       "  <th>const</th> <td>    9.3116</td> <td>    0.563</td> <td>   16.542</td> <td> 0.000</td> <td>    8.202</td> <td>   10.422</td>\n",
       "</tr>\n",
       "<tr>\n",
       "  <th>Radio</th> <td>    0.2025</td> <td>    0.020</td> <td>    9.921</td> <td> 0.000</td> <td>    0.162</td> <td>    0.243</td>\n",
       "</tr>\n",
       "</table>\n",
       "<table class=\"simpletable\">\n",
       "<tr>\n",
       "  <th>Omnibus:</th>       <td>19.358</td> <th>  Durbin-Watson:     </th> <td>   1.946</td>\n",
       "</tr>\n",
       "<tr>\n",
       "  <th>Prob(Omnibus):</th> <td> 0.000</td> <th>  Jarque-Bera (JB):  </th> <td>  21.910</td>\n",
       "</tr>\n",
       "<tr>\n",
       "  <th>Skew:</th>          <td>-0.764</td> <th>  Prob(JB):          </th> <td>1.75e-05</td>\n",
       "</tr>\n",
       "<tr>\n",
       "  <th>Kurtosis:</th>      <td> 3.544</td> <th>  Cond. No.          </th> <td>    51.4</td>\n",
       "</tr>\n",
       "</table><br/><br/>Notes:<br/>[1] Standard Errors assume that the covariance matrix of the errors is correctly specified."
      ],
      "text/latex": [
       "\\begin{center}\n",
       "\\begin{tabular}{lclc}\n",
       "\\toprule\n",
       "\\textbf{Dep. Variable:}    &      Sales       & \\textbf{  R-squared:         } &     0.332   \\\\\n",
       "\\textbf{Model:}            &       OLS        & \\textbf{  Adj. R-squared:    } &     0.329   \\\\\n",
       "\\textbf{Method:}           &  Least Squares   & \\textbf{  F-statistic:       } &     98.42   \\\\\n",
       "\\textbf{Date:}             & Tue, 26 Aug 2025 & \\textbf{  Prob (F-statistic):} &  4.35e-19   \\\\\n",
       "\\textbf{Time:}             &     20:24:48     & \\textbf{  Log-Likelihood:    } &   -573.34   \\\\\n",
       "\\textbf{No. Observations:} &         200      & \\textbf{  AIC:               } &     1151.   \\\\\n",
       "\\textbf{Df Residuals:}     &         198      & \\textbf{  BIC:               } &     1157.   \\\\\n",
       "\\textbf{Df Model:}         &           1      & \\textbf{                     } &             \\\\\n",
       "\\textbf{Covariance Type:}  &    nonrobust     & \\textbf{                     } &             \\\\\n",
       "\\bottomrule\n",
       "\\end{tabular}\n",
       "\\begin{tabular}{lcccccc}\n",
       "               & \\textbf{coef} & \\textbf{std err} & \\textbf{t} & \\textbf{P$> |$t$|$} & \\textbf{[0.025} & \\textbf{0.975]}  \\\\\n",
       "\\midrule\n",
       "\\textbf{const} &       9.3116  &        0.563     &    16.542  &         0.000        &        8.202    &       10.422     \\\\\n",
       "\\textbf{Radio} &       0.2025  &        0.020     &     9.921  &         0.000        &        0.162    &        0.243     \\\\\n",
       "\\bottomrule\n",
       "\\end{tabular}\n",
       "\\begin{tabular}{lclc}\n",
       "\\textbf{Omnibus:}       & 19.358 & \\textbf{  Durbin-Watson:     } &    1.946  \\\\\n",
       "\\textbf{Prob(Omnibus):} &  0.000 & \\textbf{  Jarque-Bera (JB):  } &   21.910  \\\\\n",
       "\\textbf{Skew:}          & -0.764 & \\textbf{  Prob(JB):          } & 1.75e-05  \\\\\n",
       "\\textbf{Kurtosis:}      &  3.544 & \\textbf{  Cond. No.          } &     51.4  \\\\\n",
       "\\bottomrule\n",
       "\\end{tabular}\n",
       "%\\caption{OLS Regression Results}\n",
       "\\end{center}\n",
       "\n",
       "Notes: \\newline\n",
       " [1] Standard Errors assume that the covariance matrix of the errors is correctly specified."
      ],
      "text/plain": [
       "<class 'statsmodels.iolib.summary.Summary'>\n",
       "\"\"\"\n",
       "                            OLS Regression Results                            \n",
       "==============================================================================\n",
       "Dep. Variable:                  Sales   R-squared:                       0.332\n",
       "Model:                            OLS   Adj. R-squared:                  0.329\n",
       "Method:                 Least Squares   F-statistic:                     98.42\n",
       "Date:                Tue, 26 Aug 2025   Prob (F-statistic):           4.35e-19\n",
       "Time:                        20:24:48   Log-Likelihood:                -573.34\n",
       "No. Observations:                 200   AIC:                             1151.\n",
       "Df Residuals:                     198   BIC:                             1157.\n",
       "Df Model:                           1                                         \n",
       "Covariance Type:            nonrobust                                         \n",
       "==============================================================================\n",
       "                 coef    std err          t      P>|t|      [0.025      0.975]\n",
       "------------------------------------------------------------------------------\n",
       "const          9.3116      0.563     16.542      0.000       8.202      10.422\n",
       "Radio          0.2025      0.020      9.921      0.000       0.162       0.243\n",
       "==============================================================================\n",
       "Omnibus:                       19.358   Durbin-Watson:                   1.946\n",
       "Prob(Omnibus):                  0.000   Jarque-Bera (JB):               21.910\n",
       "Skew:                          -0.764   Prob(JB):                     1.75e-05\n",
       "Kurtosis:                       3.544   Cond. No.                         51.4\n",
       "==============================================================================\n",
       "\n",
       "Notes:\n",
       "[1] Standard Errors assume that the covariance matrix of the errors is correctly specified.\n",
       "\"\"\""
      ]
     },
     "execution_count": 17,
     "metadata": {},
     "output_type": "execute_result"
    }
   ],
   "source": [
    "#Usando o statsmodels\n",
    "import statsmodels.api as sm\n",
    "\n",
    "radio = sm.add_constant(X['Radio']) \n",
    "\n",
    "model_radio = sm.OLS(y, radio).fit()\n",
    "\n",
    "model_radio.summary()"
   ]
  },
  {
   "cell_type": "code",
   "execution_count": 18,
   "metadata": {},
   "outputs": [
    {
     "data": {
      "text/html": [
       "<table class=\"simpletable\">\n",
       "<caption>OLS Regression Results</caption>\n",
       "<tr>\n",
       "  <th>Dep. Variable:</th>          <td>Sales</td>      <th>  R-squared:         </th> <td>   0.612</td>\n",
       "</tr>\n",
       "<tr>\n",
       "  <th>Model:</th>                   <td>OLS</td>       <th>  Adj. R-squared:    </th> <td>   0.610</td>\n",
       "</tr>\n",
       "<tr>\n",
       "  <th>Method:</th>             <td>Least Squares</td>  <th>  F-statistic:       </th> <td>   312.1</td>\n",
       "</tr>\n",
       "<tr>\n",
       "  <th>Date:</th>             <td>Tue, 26 Aug 2025</td> <th>  Prob (F-statistic):</th> <td>1.47e-42</td>\n",
       "</tr>\n",
       "<tr>\n",
       "  <th>Time:</th>                 <td>20:24:48</td>     <th>  Log-Likelihood:    </th> <td> -519.05</td>\n",
       "</tr>\n",
       "<tr>\n",
       "  <th>No. Observations:</th>      <td>   200</td>      <th>  AIC:               </th> <td>   1042.</td>\n",
       "</tr>\n",
       "<tr>\n",
       "  <th>Df Residuals:</th>          <td>   198</td>      <th>  BIC:               </th> <td>   1049.</td>\n",
       "</tr>\n",
       "<tr>\n",
       "  <th>Df Model:</th>              <td>     1</td>      <th>                     </th>     <td> </td>   \n",
       "</tr>\n",
       "<tr>\n",
       "  <th>Covariance Type:</th>      <td>nonrobust</td>    <th>                     </th>     <td> </td>   \n",
       "</tr>\n",
       "</table>\n",
       "<table class=\"simpletable\">\n",
       "<tr>\n",
       "    <td></td>       <th>coef</th>     <th>std err</th>      <th>t</th>      <th>P>|t|</th>  <th>[0.025</th>    <th>0.975]</th>  \n",
       "</tr>\n",
       "<tr>\n",
       "  <th>const</th> <td>    7.0326</td> <td>    0.458</td> <td>   15.360</td> <td> 0.000</td> <td>    6.130</td> <td>    7.935</td>\n",
       "</tr>\n",
       "<tr>\n",
       "  <th>TV</th>    <td>    0.0475</td> <td>    0.003</td> <td>   17.668</td> <td> 0.000</td> <td>    0.042</td> <td>    0.053</td>\n",
       "</tr>\n",
       "</table>\n",
       "<table class=\"simpletable\">\n",
       "<tr>\n",
       "  <th>Omnibus:</th>       <td> 0.531</td> <th>  Durbin-Watson:     </th> <td>   1.935</td>\n",
       "</tr>\n",
       "<tr>\n",
       "  <th>Prob(Omnibus):</th> <td> 0.767</td> <th>  Jarque-Bera (JB):  </th> <td>   0.669</td>\n",
       "</tr>\n",
       "<tr>\n",
       "  <th>Skew:</th>          <td>-0.089</td> <th>  Prob(JB):          </th> <td>   0.716</td>\n",
       "</tr>\n",
       "<tr>\n",
       "  <th>Kurtosis:</th>      <td> 2.779</td> <th>  Cond. No.          </th> <td>    338.</td>\n",
       "</tr>\n",
       "</table><br/><br/>Notes:<br/>[1] Standard Errors assume that the covariance matrix of the errors is correctly specified."
      ],
      "text/latex": [
       "\\begin{center}\n",
       "\\begin{tabular}{lclc}\n",
       "\\toprule\n",
       "\\textbf{Dep. Variable:}    &      Sales       & \\textbf{  R-squared:         } &     0.612   \\\\\n",
       "\\textbf{Model:}            &       OLS        & \\textbf{  Adj. R-squared:    } &     0.610   \\\\\n",
       "\\textbf{Method:}           &  Least Squares   & \\textbf{  F-statistic:       } &     312.1   \\\\\n",
       "\\textbf{Date:}             & Tue, 26 Aug 2025 & \\textbf{  Prob (F-statistic):} &  1.47e-42   \\\\\n",
       "\\textbf{Time:}             &     20:24:48     & \\textbf{  Log-Likelihood:    } &   -519.05   \\\\\n",
       "\\textbf{No. Observations:} &         200      & \\textbf{  AIC:               } &     1042.   \\\\\n",
       "\\textbf{Df Residuals:}     &         198      & \\textbf{  BIC:               } &     1049.   \\\\\n",
       "\\textbf{Df Model:}         &           1      & \\textbf{                     } &             \\\\\n",
       "\\textbf{Covariance Type:}  &    nonrobust     & \\textbf{                     } &             \\\\\n",
       "\\bottomrule\n",
       "\\end{tabular}\n",
       "\\begin{tabular}{lcccccc}\n",
       "               & \\textbf{coef} & \\textbf{std err} & \\textbf{t} & \\textbf{P$> |$t$|$} & \\textbf{[0.025} & \\textbf{0.975]}  \\\\\n",
       "\\midrule\n",
       "\\textbf{const} &       7.0326  &        0.458     &    15.360  &         0.000        &        6.130    &        7.935     \\\\\n",
       "\\textbf{TV}    &       0.0475  &        0.003     &    17.668  &         0.000        &        0.042    &        0.053     \\\\\n",
       "\\bottomrule\n",
       "\\end{tabular}\n",
       "\\begin{tabular}{lclc}\n",
       "\\textbf{Omnibus:}       &  0.531 & \\textbf{  Durbin-Watson:     } &    1.935  \\\\\n",
       "\\textbf{Prob(Omnibus):} &  0.767 & \\textbf{  Jarque-Bera (JB):  } &    0.669  \\\\\n",
       "\\textbf{Skew:}          & -0.089 & \\textbf{  Prob(JB):          } &    0.716  \\\\\n",
       "\\textbf{Kurtosis:}      &  2.779 & \\textbf{  Cond. No.          } &     338.  \\\\\n",
       "\\bottomrule\n",
       "\\end{tabular}\n",
       "%\\caption{OLS Regression Results}\n",
       "\\end{center}\n",
       "\n",
       "Notes: \\newline\n",
       " [1] Standard Errors assume that the covariance matrix of the errors is correctly specified."
      ],
      "text/plain": [
       "<class 'statsmodels.iolib.summary.Summary'>\n",
       "\"\"\"\n",
       "                            OLS Regression Results                            \n",
       "==============================================================================\n",
       "Dep. Variable:                  Sales   R-squared:                       0.612\n",
       "Model:                            OLS   Adj. R-squared:                  0.610\n",
       "Method:                 Least Squares   F-statistic:                     312.1\n",
       "Date:                Tue, 26 Aug 2025   Prob (F-statistic):           1.47e-42\n",
       "Time:                        20:24:48   Log-Likelihood:                -519.05\n",
       "No. Observations:                 200   AIC:                             1042.\n",
       "Df Residuals:                     198   BIC:                             1049.\n",
       "Df Model:                           1                                         \n",
       "Covariance Type:            nonrobust                                         \n",
       "==============================================================================\n",
       "                 coef    std err          t      P>|t|      [0.025      0.975]\n",
       "------------------------------------------------------------------------------\n",
       "const          7.0326      0.458     15.360      0.000       6.130       7.935\n",
       "TV             0.0475      0.003     17.668      0.000       0.042       0.053\n",
       "==============================================================================\n",
       "Omnibus:                        0.531   Durbin-Watson:                   1.935\n",
       "Prob(Omnibus):                  0.767   Jarque-Bera (JB):                0.669\n",
       "Skew:                          -0.089   Prob(JB):                        0.716\n",
       "Kurtosis:                       2.779   Cond. No.                         338.\n",
       "==============================================================================\n",
       "\n",
       "Notes:\n",
       "[1] Standard Errors assume that the covariance matrix of the errors is correctly specified.\n",
       "\"\"\""
      ]
     },
     "execution_count": 18,
     "metadata": {},
     "output_type": "execute_result"
    }
   ],
   "source": [
    "tv = sm.add_constant(X['TV']) \n",
    "model_tv = sm.OLS(y, tv).fit()\n",
    "model_tv.summary()\n"
   ]
  },
  {
   "cell_type": "code",
   "execution_count": 19,
   "metadata": {},
   "outputs": [
    {
     "data": {
      "text/html": [
       "<table class=\"simpletable\">\n",
       "<caption>OLS Regression Results</caption>\n",
       "<tr>\n",
       "  <th>Dep. Variable:</th>          <td>Sales</td>      <th>  R-squared:         </th> <td>   0.052</td>\n",
       "</tr>\n",
       "<tr>\n",
       "  <th>Model:</th>                   <td>OLS</td>       <th>  Adj. R-squared:    </th> <td>   0.047</td>\n",
       "</tr>\n",
       "<tr>\n",
       "  <th>Method:</th>             <td>Least Squares</td>  <th>  F-statistic:       </th> <td>   10.89</td>\n",
       "</tr>\n",
       "<tr>\n",
       "  <th>Date:</th>             <td>Tue, 26 Aug 2025</td> <th>  Prob (F-statistic):</th>  <td>0.00115</td>\n",
       "</tr>\n",
       "<tr>\n",
       "  <th>Time:</th>                 <td>20:24:48</td>     <th>  Log-Likelihood:    </th> <td> -608.34</td>\n",
       "</tr>\n",
       "<tr>\n",
       "  <th>No. Observations:</th>      <td>   200</td>      <th>  AIC:               </th> <td>   1221.</td>\n",
       "</tr>\n",
       "<tr>\n",
       "  <th>Df Residuals:</th>          <td>   198</td>      <th>  BIC:               </th> <td>   1227.</td>\n",
       "</tr>\n",
       "<tr>\n",
       "  <th>Df Model:</th>              <td>     1</td>      <th>                     </th>     <td> </td>   \n",
       "</tr>\n",
       "<tr>\n",
       "  <th>Covariance Type:</th>      <td>nonrobust</td>    <th>                     </th>     <td> </td>   \n",
       "</tr>\n",
       "</table>\n",
       "<table class=\"simpletable\">\n",
       "<tr>\n",
       "      <td></td>         <th>coef</th>     <th>std err</th>      <th>t</th>      <th>P>|t|</th>  <th>[0.025</th>    <th>0.975]</th>  \n",
       "</tr>\n",
       "<tr>\n",
       "  <th>const</th>     <td>   12.3514</td> <td>    0.621</td> <td>   19.876</td> <td> 0.000</td> <td>   11.126</td> <td>   13.577</td>\n",
       "</tr>\n",
       "<tr>\n",
       "  <th>Newspaper</th> <td>    0.0547</td> <td>    0.017</td> <td>    3.300</td> <td> 0.001</td> <td>    0.022</td> <td>    0.087</td>\n",
       "</tr>\n",
       "</table>\n",
       "<table class=\"simpletable\">\n",
       "<tr>\n",
       "  <th>Omnibus:</th>       <td> 6.231</td> <th>  Durbin-Watson:     </th> <td>   1.983</td>\n",
       "</tr>\n",
       "<tr>\n",
       "  <th>Prob(Omnibus):</th> <td> 0.044</td> <th>  Jarque-Bera (JB):  </th> <td>   5.483</td>\n",
       "</tr>\n",
       "<tr>\n",
       "  <th>Skew:</th>          <td> 0.330</td> <th>  Prob(JB):          </th> <td>  0.0645</td>\n",
       "</tr>\n",
       "<tr>\n",
       "  <th>Kurtosis:</th>      <td> 2.527</td> <th>  Cond. No.          </th> <td>    64.7</td>\n",
       "</tr>\n",
       "</table><br/><br/>Notes:<br/>[1] Standard Errors assume that the covariance matrix of the errors is correctly specified."
      ],
      "text/latex": [
       "\\begin{center}\n",
       "\\begin{tabular}{lclc}\n",
       "\\toprule\n",
       "\\textbf{Dep. Variable:}    &      Sales       & \\textbf{  R-squared:         } &     0.052   \\\\\n",
       "\\textbf{Model:}            &       OLS        & \\textbf{  Adj. R-squared:    } &     0.047   \\\\\n",
       "\\textbf{Method:}           &  Least Squares   & \\textbf{  F-statistic:       } &     10.89   \\\\\n",
       "\\textbf{Date:}             & Tue, 26 Aug 2025 & \\textbf{  Prob (F-statistic):} &  0.00115    \\\\\n",
       "\\textbf{Time:}             &     20:24:48     & \\textbf{  Log-Likelihood:    } &   -608.34   \\\\\n",
       "\\textbf{No. Observations:} &         200      & \\textbf{  AIC:               } &     1221.   \\\\\n",
       "\\textbf{Df Residuals:}     &         198      & \\textbf{  BIC:               } &     1227.   \\\\\n",
       "\\textbf{Df Model:}         &           1      & \\textbf{                     } &             \\\\\n",
       "\\textbf{Covariance Type:}  &    nonrobust     & \\textbf{                     } &             \\\\\n",
       "\\bottomrule\n",
       "\\end{tabular}\n",
       "\\begin{tabular}{lcccccc}\n",
       "                   & \\textbf{coef} & \\textbf{std err} & \\textbf{t} & \\textbf{P$> |$t$|$} & \\textbf{[0.025} & \\textbf{0.975]}  \\\\\n",
       "\\midrule\n",
       "\\textbf{const}     &      12.3514  &        0.621     &    19.876  &         0.000        &       11.126    &       13.577     \\\\\n",
       "\\textbf{Newspaper} &       0.0547  &        0.017     &     3.300  &         0.001        &        0.022    &        0.087     \\\\\n",
       "\\bottomrule\n",
       "\\end{tabular}\n",
       "\\begin{tabular}{lclc}\n",
       "\\textbf{Omnibus:}       &  6.231 & \\textbf{  Durbin-Watson:     } &    1.983  \\\\\n",
       "\\textbf{Prob(Omnibus):} &  0.044 & \\textbf{  Jarque-Bera (JB):  } &    5.483  \\\\\n",
       "\\textbf{Skew:}          &  0.330 & \\textbf{  Prob(JB):          } &   0.0645  \\\\\n",
       "\\textbf{Kurtosis:}      &  2.527 & \\textbf{  Cond. No.          } &     64.7  \\\\\n",
       "\\bottomrule\n",
       "\\end{tabular}\n",
       "%\\caption{OLS Regression Results}\n",
       "\\end{center}\n",
       "\n",
       "Notes: \\newline\n",
       " [1] Standard Errors assume that the covariance matrix of the errors is correctly specified."
      ],
      "text/plain": [
       "<class 'statsmodels.iolib.summary.Summary'>\n",
       "\"\"\"\n",
       "                            OLS Regression Results                            \n",
       "==============================================================================\n",
       "Dep. Variable:                  Sales   R-squared:                       0.052\n",
       "Model:                            OLS   Adj. R-squared:                  0.047\n",
       "Method:                 Least Squares   F-statistic:                     10.89\n",
       "Date:                Tue, 26 Aug 2025   Prob (F-statistic):            0.00115\n",
       "Time:                        20:24:48   Log-Likelihood:                -608.34\n",
       "No. Observations:                 200   AIC:                             1221.\n",
       "Df Residuals:                     198   BIC:                             1227.\n",
       "Df Model:                           1                                         \n",
       "Covariance Type:            nonrobust                                         \n",
       "==============================================================================\n",
       "                 coef    std err          t      P>|t|      [0.025      0.975]\n",
       "------------------------------------------------------------------------------\n",
       "const         12.3514      0.621     19.876      0.000      11.126      13.577\n",
       "Newspaper      0.0547      0.017      3.300      0.001       0.022       0.087\n",
       "==============================================================================\n",
       "Omnibus:                        6.231   Durbin-Watson:                   1.983\n",
       "Prob(Omnibus):                  0.044   Jarque-Bera (JB):                5.483\n",
       "Skew:                           0.330   Prob(JB):                       0.0645\n",
       "Kurtosis:                       2.527   Cond. No.                         64.7\n",
       "==============================================================================\n",
       "\n",
       "Notes:\n",
       "[1] Standard Errors assume that the covariance matrix of the errors is correctly specified.\n",
       "\"\"\""
      ]
     },
     "execution_count": 19,
     "metadata": {},
     "output_type": "execute_result"
    }
   ],
   "source": [
    "Newspaper = sm.add_constant(X['Newspaper']) \n",
    "model_news = sm.OLS(y, Newspaper).fit()\n",
    "model_news.summary()"
   ]
  },
  {
   "cell_type": "markdown",
   "metadata": {},
   "source": [
    "### Teste com o Sklearn"
   ]
  },
  {
   "cell_type": "code",
   "execution_count": 20,
   "metadata": {},
   "outputs": [
    {
     "name": "stdout",
     "output_type": "stream",
     "text": [
      "R2: 0.611875050850071\n",
      "Intercept: 7.032593549127695\n",
      "Slope: [0.04753664]\n"
     ]
    }
   ],
   "source": [
    "from sklearn import linear_model\n",
    "\n",
    "regr_tv = linear_model.LinearRegression()\n",
    "\n",
    "X_tv = np.array(X['TV']).reshape((-1, 1))\n",
    "\n",
    "regr_tv.fit(X_tv, y)\n",
    "\n",
    "r_sq = regr_tv.score(X_tv, y)\n",
    "\n",
    "print('R2:', r_sq)\n",
    "\n",
    "print('Intercept:', regr_tv.intercept_)\n",
    "\n",
    "print('Slope:', regr_tv.coef_) \n"
   ]
  },
  {
   "cell_type": "markdown",
   "metadata": {},
   "source": [
    "### Predição de valores"
   ]
  },
  {
   "cell_type": "code",
   "execution_count": 21,
   "metadata": {},
   "outputs": [
    {
     "name": "stdout",
     "output_type": "stream",
     "text": [
      "[30.80091377]\n",
      "[482.39899788]\n"
     ]
    }
   ],
   "source": [
    "### Prevendo as vendas com investimento em TV de 500 e 10000\n",
    "\n",
    "print(regr_tv.predict([[500]]))\n",
    "print(regr_tv.predict([[10000]]))"
   ]
  },
  {
   "cell_type": "markdown",
   "metadata": {},
   "source": [
    "## Avaliando predição"
   ]
  },
  {
   "cell_type": "code",
   "execution_count": 22,
   "metadata": {
    "scrolled": false
   },
   "outputs": [
    {
     "name": "stdout",
     "output_type": "stream",
     "text": [
      "Coeficiente: [0.04707932]\n",
      "Mean squared error: 9.84\n",
      "R2 (ou coeficiente de determinação): 0.70\n"
     ]
    },
    {
     "data": {
      "image/png": "[encoded data removed]",
      "text/plain": [
       "<Figure size 640x480 with 1 Axes>"
      ]
     },
     "metadata": {},
     "output_type": "display_data"
    }
   ],
   "source": [
    "import matplotlib.pyplot as plt\n",
    "\n",
    "from sklearn.metrics import mean_squared_error, r2_score\n",
    "\n",
    "\n",
    "# Divide as features em treino e teste\n",
    "X_tv_train = X_tv[:-10]\n",
    "X_tv_test = X_tv[-10:]\n",
    "\n",
    "\n",
    "# Separa os alvos em treino e teste \n",
    "y_train = y[:-10]\n",
    "y_test = y[-10:]\n",
    "\n",
    "# Cria um objeto de regressão linear \n",
    "regr_tv = linear_model.LinearRegression()\n",
    "\n",
    "# Treina o modelo usando o conjunto de treino\n",
    "regr_tv.fit(X_tv_train, y_train)\n",
    "\n",
    "# Faz predições usando o conjunto de teste \n",
    "y_pred = regr_tv.predict(X_tv_test)\n",
    "\n",
    "# Coeficientes\n",
    "print(\"Coeficiente:\", regr_tv.coef_)\n",
    "\n",
    "# Mean squared error (MSE)\n",
    "print(\"Mean squared error: %.2f\" % mean_squared_error(y_test, y_pred))\n",
    "\n",
    "# O coeficiente de determinação (ou R2)\n",
    "print(\"R2 (ou coeficiente de determinação): %.2f\" % r2_score(y_test, y_pred))\n",
    "\n",
    "# Plot\n",
    "plt.scatter(X_tv_test, y_test, color=\"black\")\n",
    "plt.plot(X_tv_test, y_pred, color=\"blue\", linewidth=3)\n",
    "\n",
    "plt.xticks(())\n",
    "plt.yticks(())\n",
    "\n",
    "plt.show()\n",
    "    "
   ]
  }
 ],
 "metadata": {
  "kernelspec": {
   "display_name": "venv",
   "language": "python",
   "name": "python3"
  },
  "language_info": {
   "codemirror_mode": {
    "name": "ipython",
    "version": 3
   },
   "file_extension": ".py",
   "mimetype": "text/x-python",
   "name": "python",
   "nbconvert_exporter": "python",
   "pygments_lexer": "ipython3",
   "version": "3.13.7"
  }
 },
 "nbformat": 4,
 "nbformat_minor": 5
}
