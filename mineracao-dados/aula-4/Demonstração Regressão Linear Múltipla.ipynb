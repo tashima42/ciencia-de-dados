{
 "cells": [
  {
   "cell_type": "markdown",
   "metadata": {},
   "source": [
    "# Demonstração de regressão linear múltipla"
   ]
  },
  {
   "cell_type": "markdown",
   "metadata": {},
   "source": [
    "### Carregando o dataset e realizando procedimentos iniciais"
   ]
  },
  {
   "cell_type": "code",
   "execution_count": 1,
   "metadata": {
    "vscode": {
     "languageId": "shellscript"
    }
   },
   "outputs": [
    {
     "name": "stdout",
     "output_type": "stream",
     "text": [
      "Requirement already satisfied: simplejson==3.20.1 in /Users/pedro/code/tashima42/ciencia-de-dados/mineracao-dados/venv/lib/python3.13/site-packages (from -r ../requirements.txt (line 1)) (3.20.1)\n",
      "Requirement already satisfied: python-youtube==0.9.7 in /Users/pedro/code/tashima42/ciencia-de-dados/mineracao-dados/venv/lib/python3.13/site-packages (from -r ../requirements.txt (line 2)) (0.9.7)\n",
      "Requirement already satisfied: python-dotenv==1.1.1 in /Users/pedro/code/tashima42/ciencia-de-dados/mineracao-dados/venv/lib/python3.13/site-packages (from -r ../requirements.txt (line 3)) (1.1.1)\n",
      "Requirement already satisfied: beautifulsoup4==4.13.4 in /Users/pedro/code/tashima42/ciencia-de-dados/mineracao-dados/venv/lib/python3.13/site-packages (from -r ../requirements.txt (line 4)) (4.13.4)\n",
      "Requirement already satisfied: selenium==4.35.0 in /Users/pedro/code/tashima42/ciencia-de-dados/mineracao-dados/venv/lib/python3.13/site-packages (from -r ../requirements.txt (line 5)) (4.35.0)\n",
      "Requirement already satisfied: numpy==2.3.2 in /Users/pedro/code/tashima42/ciencia-de-dados/mineracao-dados/venv/lib/python3.13/site-packages (from -r ../requirements.txt (line 6)) (2.3.2)\n",
      "Requirement already satisfied: pandas==2.3.2 in /Users/pedro/code/tashima42/ciencia-de-dados/mineracao-dados/venv/lib/python3.13/site-packages (from -r ../requirements.txt (line 7)) (2.3.2)\n",
      "Requirement already satisfied: statsmodels==0.14.5 in /Users/pedro/code/tashima42/ciencia-de-dados/mineracao-dados/venv/lib/python3.13/site-packages (from -r ../requirements.txt (line 8)) (0.14.5)\n",
      "Requirement already satisfied: scikit-learn==1.7.1 in /Users/pedro/code/tashima42/ciencia-de-dados/mineracao-dados/venv/lib/python3.13/site-packages (from -r ../requirements.txt (line 9)) (1.7.1)\n",
      "Requirement already satisfied: matplotlib==3.10.5 in /Users/pedro/code/tashima42/ciencia-de-dados/mineracao-dados/venv/lib/python3.13/site-packages (from -r ../requirements.txt (line 10)) (3.10.5)\n",
      "Requirement already satisfied: dataclasses-json<0.7.0,>=0.6.0 in /Users/pedro/code/tashima42/ciencia-de-dados/mineracao-dados/venv/lib/python3.13/site-packages (from python-youtube==0.9.7->-r ../requirements.txt (line 2)) (0.6.7)\n",
      "Requirement already satisfied: isodate<=0.7.2,>=0.6.0 in /Users/pedro/code/tashima42/ciencia-de-dados/mineracao-dados/venv/lib/python3.13/site-packages (from python-youtube==0.9.7->-r ../requirements.txt (line 2)) (0.7.2)\n",
      "Requirement already satisfied: requests<3.0.0,>=2.24.0 in /Users/pedro/code/tashima42/ciencia-de-dados/mineracao-dados/venv/lib/python3.13/site-packages (from python-youtube==0.9.7->-r ../requirements.txt (line 2)) (2.32.5)\n",
      "Requirement already satisfied: requests-oauthlib==1.3.0 in /Users/pedro/code/tashima42/ciencia-de-dados/mineracao-dados/venv/lib/python3.13/site-packages (from python-youtube==0.9.7->-r ../requirements.txt (line 2)) (1.3.0)\n",
      "Requirement already satisfied: soupsieve>1.2 in /Users/pedro/code/tashima42/ciencia-de-dados/mineracao-dados/venv/lib/python3.13/site-packages (from beautifulsoup4==4.13.4->-r ../requirements.txt (line 4)) (2.7)\n",
      "Requirement already satisfied: typing-extensions>=4.0.0 in /Users/pedro/code/tashima42/ciencia-de-dados/mineracao-dados/venv/lib/python3.13/site-packages (from beautifulsoup4==4.13.4->-r ../requirements.txt (line 4)) (4.14.1)\n",
      "Requirement already satisfied: urllib3<3.0,>=2.5.0 in /Users/pedro/code/tashima42/ciencia-de-dados/mineracao-dados/venv/lib/python3.13/site-packages (from urllib3[socks]<3.0,>=2.5.0->selenium==4.35.0->-r ../requirements.txt (line 5)) (2.5.0)\n",
      "Requirement already satisfied: trio~=0.30.0 in /Users/pedro/code/tashima42/ciencia-de-dados/mineracao-dados/venv/lib/python3.13/site-packages (from selenium==4.35.0->-r ../requirements.txt (line 5)) (0.30.0)\n",
      "Requirement already satisfied: trio-websocket~=0.12.2 in /Users/pedro/code/tashima42/ciencia-de-dados/mineracao-dados/venv/lib/python3.13/site-packages (from selenium==4.35.0->-r ../requirements.txt (line 5)) (0.12.2)\n",
      "Requirement already satisfied: certifi>=2025.6.15 in /Users/pedro/code/tashima42/ciencia-de-dados/mineracao-dados/venv/lib/python3.13/site-packages (from selenium==4.35.0->-r ../requirements.txt (line 5)) (2025.8.3)\n",
      "Requirement already satisfied: websocket-client~=1.8.0 in /Users/pedro/code/tashima42/ciencia-de-dados/mineracao-dados/venv/lib/python3.13/site-packages (from selenium==4.35.0->-r ../requirements.txt (line 5)) (1.8.0)\n",
      "Requirement already satisfied: python-dateutil>=2.8.2 in /Users/pedro/code/tashima42/ciencia-de-dados/mineracao-dados/venv/lib/python3.13/site-packages (from pandas==2.3.2->-r ../requirements.txt (line 7)) (2.9.0.post0)\n",
      "Requirement already satisfied: pytz>=2020.1 in /Users/pedro/code/tashima42/ciencia-de-dados/mineracao-dados/venv/lib/python3.13/site-packages (from pandas==2.3.2->-r ../requirements.txt (line 7)) (2025.2)\n",
      "Requirement already satisfied: tzdata>=2022.7 in /Users/pedro/code/tashima42/ciencia-de-dados/mineracao-dados/venv/lib/python3.13/site-packages (from pandas==2.3.2->-r ../requirements.txt (line 7)) (2025.2)\n",
      "Requirement already satisfied: scipy!=1.9.2,>=1.8 in /Users/pedro/code/tashima42/ciencia-de-dados/mineracao-dados/venv/lib/python3.13/site-packages (from statsmodels==0.14.5->-r ../requirements.txt (line 8)) (1.16.1)\n",
      "Requirement already satisfied: patsy>=0.5.6 in /Users/pedro/code/tashima42/ciencia-de-dados/mineracao-dados/venv/lib/python3.13/site-packages (from statsmodels==0.14.5->-r ../requirements.txt (line 8)) (1.0.1)\n",
      "Requirement already satisfied: packaging>=21.3 in /Users/pedro/code/tashima42/ciencia-de-dados/mineracao-dados/venv/lib/python3.13/site-packages (from statsmodels==0.14.5->-r ../requirements.txt (line 8)) (25.0)\n",
      "Requirement already satisfied: joblib>=1.2.0 in /Users/pedro/code/tashima42/ciencia-de-dados/mineracao-dados/venv/lib/python3.13/site-packages (from scikit-learn==1.7.1->-r ../requirements.txt (line 9)) (1.5.1)\n",
      "Requirement already satisfied: threadpoolctl>=3.1.0 in /Users/pedro/code/tashima42/ciencia-de-dados/mineracao-dados/venv/lib/python3.13/site-packages (from scikit-learn==1.7.1->-r ../requirements.txt (line 9)) (3.6.0)\n",
      "Requirement already satisfied: contourpy>=1.0.1 in /Users/pedro/code/tashima42/ciencia-de-dados/mineracao-dados/venv/lib/python3.13/site-packages (from matplotlib==3.10.5->-r ../requirements.txt (line 10)) (1.3.3)\n",
      "Requirement already satisfied: cycler>=0.10 in /Users/pedro/code/tashima42/ciencia-de-dados/mineracao-dados/venv/lib/python3.13/site-packages (from matplotlib==3.10.5->-r ../requirements.txt (line 10)) (0.12.1)\n",
      "Requirement already satisfied: fonttools>=4.22.0 in /Users/pedro/code/tashima42/ciencia-de-dados/mineracao-dados/venv/lib/python3.13/site-packages (from matplotlib==3.10.5->-r ../requirements.txt (line 10)) (4.59.1)\n",
      "Requirement already satisfied: kiwisolver>=1.3.1 in /Users/pedro/code/tashima42/ciencia-de-dados/mineracao-dados/venv/lib/python3.13/site-packages (from matplotlib==3.10.5->-r ../requirements.txt (line 10)) (1.4.9)\n",
      "Requirement already satisfied: pillow>=8 in /Users/pedro/code/tashima42/ciencia-de-dados/mineracao-dados/venv/lib/python3.13/site-packages (from matplotlib==3.10.5->-r ../requirements.txt (line 10)) (11.3.0)\n",
      "Requirement already satisfied: pyparsing>=2.3.1 in /Users/pedro/code/tashima42/ciencia-de-dados/mineracao-dados/venv/lib/python3.13/site-packages (from matplotlib==3.10.5->-r ../requirements.txt (line 10)) (3.2.3)\n",
      "Requirement already satisfied: oauthlib>=3.0.0 in /Users/pedro/code/tashima42/ciencia-de-dados/mineracao-dados/venv/lib/python3.13/site-packages (from requests-oauthlib==1.3.0->python-youtube==0.9.7->-r ../requirements.txt (line 2)) (3.3.1)\n",
      "Requirement already satisfied: marshmallow<4.0.0,>=3.18.0 in /Users/pedro/code/tashima42/ciencia-de-dados/mineracao-dados/venv/lib/python3.13/site-packages (from dataclasses-json<0.7.0,>=0.6.0->python-youtube==0.9.7->-r ../requirements.txt (line 2)) (3.26.1)\n",
      "Requirement already satisfied: typing-inspect<1,>=0.4.0 in /Users/pedro/code/tashima42/ciencia-de-dados/mineracao-dados/venv/lib/python3.13/site-packages (from dataclasses-json<0.7.0,>=0.6.0->python-youtube==0.9.7->-r ../requirements.txt (line 2)) (0.9.0)\n",
      "Requirement already satisfied: charset_normalizer<4,>=2 in /Users/pedro/code/tashima42/ciencia-de-dados/mineracao-dados/venv/lib/python3.13/site-packages (from requests<3.0.0,>=2.24.0->python-youtube==0.9.7->-r ../requirements.txt (line 2)) (3.4.3)\n",
      "Requirement already satisfied: idna<4,>=2.5 in /Users/pedro/code/tashima42/ciencia-de-dados/mineracao-dados/venv/lib/python3.13/site-packages (from requests<3.0.0,>=2.24.0->python-youtube==0.9.7->-r ../requirements.txt (line 2)) (3.10)\n",
      "Requirement already satisfied: attrs>=23.2.0 in /Users/pedro/code/tashima42/ciencia-de-dados/mineracao-dados/venv/lib/python3.13/site-packages (from trio~=0.30.0->selenium==4.35.0->-r ../requirements.txt (line 5)) (25.3.0)\n",
      "Requirement already satisfied: sortedcontainers in /Users/pedro/code/tashima42/ciencia-de-dados/mineracao-dados/venv/lib/python3.13/site-packages (from trio~=0.30.0->selenium==4.35.0->-r ../requirements.txt (line 5)) (2.4.0)\n",
      "Requirement already satisfied: outcome in /Users/pedro/code/tashima42/ciencia-de-dados/mineracao-dados/venv/lib/python3.13/site-packages (from trio~=0.30.0->selenium==4.35.0->-r ../requirements.txt (line 5)) (1.3.0.post0)\n",
      "Requirement already satisfied: sniffio>=1.3.0 in /Users/pedro/code/tashima42/ciencia-de-dados/mineracao-dados/venv/lib/python3.13/site-packages (from trio~=0.30.0->selenium==4.35.0->-r ../requirements.txt (line 5)) (1.3.1)\n",
      "Requirement already satisfied: wsproto>=0.14 in /Users/pedro/code/tashima42/ciencia-de-dados/mineracao-dados/venv/lib/python3.13/site-packages (from trio-websocket~=0.12.2->selenium==4.35.0->-r ../requirements.txt (line 5)) (1.2.0)\n",
      "Requirement already satisfied: mypy-extensions>=0.3.0 in /Users/pedro/code/tashima42/ciencia-de-dados/mineracao-dados/venv/lib/python3.13/site-packages (from typing-inspect<1,>=0.4.0->dataclasses-json<0.7.0,>=0.6.0->python-youtube==0.9.7->-r ../requirements.txt (line 2)) (1.1.0)\n",
      "Requirement already satisfied: pysocks!=1.5.7,<2.0,>=1.5.6 in /Users/pedro/code/tashima42/ciencia-de-dados/mineracao-dados/venv/lib/python3.13/site-packages (from urllib3[socks]<3.0,>=2.5.0->selenium==4.35.0->-r ../requirements.txt (line 5)) (1.7.1)\n",
      "Requirement already satisfied: six>=1.5 in /Users/pedro/code/tashima42/ciencia-de-dados/mineracao-dados/venv/lib/python3.13/site-packages (from python-dateutil>=2.8.2->pandas==2.3.2->-r ../requirements.txt (line 7)) (1.17.0)\n",
      "Requirement already satisfied: h11<1,>=0.9.0 in /Users/pedro/code/tashima42/ciencia-de-dados/mineracao-dados/venv/lib/python3.13/site-packages (from wsproto>=0.14->trio-websocket~=0.12.2->selenium==4.35.0->-r ../requirements.txt (line 5)) (0.16.0)\n"
     ]
    }
   ],
   "source": [
    "!python3 -m pip install -r ../requirements.txt"
   ]
  },
  {
   "cell_type": "code",
   "execution_count": 2,
   "metadata": {},
   "outputs": [
    {
     "data": {
      "text/html": [
       "<div>\n",
       "<style scoped>\n",
       "    .dataframe tbody tr th:only-of-type {\n",
       "        vertical-align: middle;\n",
       "    }\n",
       "\n",
       "    .dataframe tbody tr th {\n",
       "        vertical-align: top;\n",
       "    }\n",
       "\n",
       "    .dataframe thead th {\n",
       "        text-align: right;\n",
       "    }\n",
       "</style>\n",
       "<table border=\"1\" class=\"dataframe\">\n",
       "  <thead>\n",
       "    <tr style=\"text-align: right;\">\n",
       "      <th></th>\n",
       "      <th>Unnamed: 0</th>\n",
       "      <th>TV</th>\n",
       "      <th>Radio</th>\n",
       "      <th>Newspaper</th>\n",
       "      <th>Sales</th>\n",
       "    </tr>\n",
       "  </thead>\n",
       "  <tbody>\n",
       "    <tr>\n",
       "      <th>0</th>\n",
       "      <td>1</td>\n",
       "      <td>230.1</td>\n",
       "      <td>37.8</td>\n",
       "      <td>69.2</td>\n",
       "      <td>22.1</td>\n",
       "    </tr>\n",
       "    <tr>\n",
       "      <th>1</th>\n",
       "      <td>2</td>\n",
       "      <td>44.5</td>\n",
       "      <td>39.3</td>\n",
       "      <td>45.1</td>\n",
       "      <td>10.4</td>\n",
       "    </tr>\n",
       "    <tr>\n",
       "      <th>2</th>\n",
       "      <td>3</td>\n",
       "      <td>17.2</td>\n",
       "      <td>45.9</td>\n",
       "      <td>69.3</td>\n",
       "      <td>9.3</td>\n",
       "    </tr>\n",
       "    <tr>\n",
       "      <th>3</th>\n",
       "      <td>4</td>\n",
       "      <td>151.5</td>\n",
       "      <td>41.3</td>\n",
       "      <td>58.5</td>\n",
       "      <td>18.5</td>\n",
       "    </tr>\n",
       "    <tr>\n",
       "      <th>4</th>\n",
       "      <td>5</td>\n",
       "      <td>180.8</td>\n",
       "      <td>10.8</td>\n",
       "      <td>58.4</td>\n",
       "      <td>12.9</td>\n",
       "    </tr>\n",
       "  </tbody>\n",
       "</table>\n",
       "</div>"
      ],
      "text/plain": [
       "   Unnamed: 0     TV  Radio  Newspaper  Sales\n",
       "0           1  230.1   37.8       69.2   22.1\n",
       "1           2   44.5   39.3       45.1   10.4\n",
       "2           3   17.2   45.9       69.3    9.3\n",
       "3           4  151.5   41.3       58.5   18.5\n",
       "4           5  180.8   10.8       58.4   12.9"
      ]
     },
     "execution_count": 2,
     "metadata": {},
     "output_type": "execute_result"
    }
   ],
   "source": [
    "import pandas as pd\n",
    "import numpy as np\n",
    "\n",
    "dataset=pd.read_csv('Advertising.csv')\n",
    "dataset.head()"
   ]
  },
  {
   "cell_type": "code",
   "execution_count": 3,
   "metadata": {},
   "outputs": [],
   "source": [
    "X=dataset[['TV','Radio','Newspaper']]\n",
    "y=dataset['Sales']\n"
   ]
  },
  {
   "cell_type": "markdown",
   "metadata": {},
   "source": [
    "# Regressão linear múltipla"
   ]
  },
  {
   "cell_type": "code",
   "execution_count": 4,
   "metadata": {},
   "outputs": [
    {
     "name": "stdout",
     "output_type": "stream",
     "text": [
      "2.9388893694594085 [ 0.04576465  0.18853002 -0.00103749]\n"
     ]
    }
   ],
   "source": [
    "#Utilizando primeiramente o sklearn\n",
    "from sklearn.linear_model import LinearRegression\n",
    "\n",
    "\n",
    "lm=LinearRegression()\n",
    "lm.fit(X.values,y.values)\n",
    "\n",
    "print(lm.intercept_,lm.coef_)"
   ]
  },
  {
   "cell_type": "code",
   "execution_count": 5,
   "metadata": {
    "scrolled": true
   },
   "outputs": [
    {
     "name": "stdout",
     "output_type": "stream",
     "text": [
      "                            OLS Regression Results                            \n",
      "==============================================================================\n",
      "Dep. Variable:                      y   R-squared:                       0.897\n",
      "Model:                            OLS   Adj. R-squared:                  0.896\n",
      "Method:                 Least Squares   F-statistic:                     570.3\n",
      "Date:                Tue, 26 Aug 2025   Prob (F-statistic):           1.58e-96\n",
      "Time:                        20:25:00   Log-Likelihood:                -386.18\n",
      "No. Observations:                 200   AIC:                             780.4\n",
      "Df Residuals:                     196   BIC:                             793.6\n",
      "Df Model:                           3                                         \n",
      "Covariance Type:            nonrobust                                         \n",
      "==============================================================================\n",
      "                 coef    std err          t      P>|t|      [0.025      0.975]\n",
      "------------------------------------------------------------------------------\n",
      "const          2.9389      0.312      9.422      0.000       2.324       3.554\n",
      "x1             0.0458      0.001     32.809      0.000       0.043       0.049\n",
      "x2             0.1885      0.009     21.893      0.000       0.172       0.206\n",
      "x3            -0.0010      0.006     -0.177      0.860      -0.013       0.011\n",
      "==============================================================================\n",
      "Omnibus:                       60.414   Durbin-Watson:                   2.084\n",
      "Prob(Omnibus):                  0.000   Jarque-Bera (JB):              151.241\n",
      "Skew:                          -1.327   Prob(JB):                     1.44e-33\n",
      "Kurtosis:                       6.332   Cond. No.                         454.\n",
      "==============================================================================\n",
      "\n",
      "Notes:\n",
      "[1] Standard Errors assume that the covariance matrix of the errors is correctly specified.\n"
     ]
    }
   ],
   "source": [
    "#Usando o statsmodels\n",
    "import statsmodels.api as sm\n",
    "\n",
    "#Essa linha adiciona o intercept (isso vai representar o valor das vendas quando todos os investimentos são 0)\n",
    "X_intercept = sm.add_constant(X) \n",
    "\n",
    "\n",
    "model = sm.OLS(y.values, X_intercept.values).fit()\n",
    "\n",
    "\n",
    "print_model = model.summary()\n",
    "print(print_model)"
   ]
  },
  {
   "cell_type": "markdown",
   "metadata": {},
   "source": [
    "### Observação:\n",
    "Note que os coeficientes utilizando o sklearn e o stasmodel são os mesmos, como deveria ser."
   ]
  },
  {
   "cell_type": "code",
   "execution_count": 6,
   "metadata": {},
   "outputs": [
    {
     "data": {
      "text/html": [
       "<div>\n",
       "<style scoped>\n",
       "    .dataframe tbody tr th:only-of-type {\n",
       "        vertical-align: middle;\n",
       "    }\n",
       "\n",
       "    .dataframe tbody tr th {\n",
       "        vertical-align: top;\n",
       "    }\n",
       "\n",
       "    .dataframe thead th {\n",
       "        text-align: right;\n",
       "    }\n",
       "</style>\n",
       "<table border=\"1\" class=\"dataframe\">\n",
       "  <thead>\n",
       "    <tr style=\"text-align: right;\">\n",
       "      <th></th>\n",
       "      <th>TV</th>\n",
       "      <th>Radio</th>\n",
       "      <th>Newspaper</th>\n",
       "    </tr>\n",
       "  </thead>\n",
       "  <tbody>\n",
       "    <tr>\n",
       "      <th>TV</th>\n",
       "      <td>1.000000</td>\n",
       "      <td>0.054809</td>\n",
       "      <td>0.056648</td>\n",
       "    </tr>\n",
       "    <tr>\n",
       "      <th>Radio</th>\n",
       "      <td>0.054809</td>\n",
       "      <td>1.000000</td>\n",
       "      <td>0.354104</td>\n",
       "    </tr>\n",
       "    <tr>\n",
       "      <th>Newspaper</th>\n",
       "      <td>0.056648</td>\n",
       "      <td>0.354104</td>\n",
       "      <td>1.000000</td>\n",
       "    </tr>\n",
       "  </tbody>\n",
       "</table>\n",
       "</div>"
      ],
      "text/plain": [
       "                 TV     Radio  Newspaper\n",
       "TV         1.000000  0.054809   0.056648\n",
       "Radio      0.054809  1.000000   0.354104\n",
       "Newspaper  0.056648  0.354104   1.000000"
      ]
     },
     "execution_count": 6,
     "metadata": {},
     "output_type": "execute_result"
    }
   ],
   "source": [
    "#Analisando a correlação entre as vaiáveis para entender melhor o resultado da regressão linear múltipla.\n",
    "\n",
    "X.corr()"
   ]
  },
  {
   "cell_type": "markdown",
   "metadata": {},
   "source": [
    "## Predição"
   ]
  },
  {
   "cell_type": "code",
   "execution_count": 7,
   "metadata": {},
   "outputs": [
    {
     "name": "stdout",
     "output_type": "stream",
     "text": [
      "[50.56808513]\n"
     ]
    }
   ],
   "source": [
    "#TV = 1000\n",
    "#Radio =10\n",
    "#Newspaper = 20\n",
    "print(lm.predict([[1000,10,20]]))"
   ]
  },
  {
   "cell_type": "code",
   "execution_count": 8,
   "metadata": {},
   "outputs": [
    {
     "name": "stdout",
     "output_type": "stream",
     "text": [
      "[26.2646063]\n"
     ]
    }
   ],
   "source": [
    "#TV = 100\n",
    "#Radio =100\n",
    "#Newspaper = 100\n",
    "print(lm.predict([[100,100,100]]))"
   ]
  },
  {
   "cell_type": "markdown",
   "metadata": {},
   "source": [
    "## Avaliando predição"
   ]
  },
  {
   "cell_type": "code",
   "execution_count": 9,
   "metadata": {},
   "outputs": [
    {
     "name": "stdout",
     "output_type": "stream",
     "text": [
      "Coeficientes: [ 0.04599515  0.19003705 -0.00121422]\n",
      "Mean squared error: 2.33\n",
      "R2 (ou coeficiente de determinação): 0.9278\n"
     ]
    }
   ],
   "source": [
    "from sklearn.linear_model import LinearRegression\n",
    "\n",
    "from sklearn.metrics import mean_squared_error, r2_score\n",
    "\n",
    "\n",
    "# Divide as features em treino e teste\n",
    "X_train = X.iloc[:-10,:]\n",
    "X_test = X.iloc[-10:,:]\n",
    "\n",
    "# Separa os alvos em treino e teste \n",
    "y_train = y[:-10]\n",
    "y_test = y[-10:]\n",
    "\n",
    "# Cria um objeto de regressão linear \n",
    "regr = LinearRegression()\n",
    "\n",
    "# Treina o modelo usando o conjunto de treino\n",
    "regr.fit(X_train, y_train)\n",
    "\n",
    "# Faz predições usando o conjunto de teste \n",
    "y_pred = regr.predict(X_test)\n",
    "\n",
    "# Coeficientes\n",
    "print(\"Coeficientes:\", regr.coef_)\n",
    "\n",
    "# Mean squared error (MSE)\n",
    "print(\"Mean squared error: %.2f\" % mean_squared_error(y_test, y_pred))\n",
    "\n",
    "# O coeficiente de determinação (ou R2)\n",
    "print(\"R2 (ou coeficiente de determinação): %.4f\" % r2_score(y_test, y_pred))\n"
   ]
  },
  {
   "cell_type": "markdown",
   "metadata": {},
   "source": [
    "## Avaliando predição - com Ridge"
   ]
  },
  {
   "cell_type": "code",
   "execution_count": 10,
   "metadata": {},
   "outputs": [
    {
     "name": "stdout",
     "output_type": "stream",
     "text": [
      "Coeficientes: [ 0.04599512  0.1900264  -0.00121159]\n",
      "R2 (ou coeficiente de determinação): 0.9278\n"
     ]
    }
   ],
   "source": [
    "from sklearn.linear_model import Ridge\n",
    "\n",
    "regrRidge = Ridge(alpha=2.0)#alpha é a força da regularização, quanto maior mais penalização\n",
    "\n",
    "regrRidge.fit(X_train, y_train)\n",
    "\n",
    "y_pred = regrRidge.predict(X_test)\n",
    "\n",
    "\n",
    "print(\"Coeficientes:\", regrRidge.coef_)\n",
    "\n",
    "print(\"R2 (ou coeficiente de determinação): %.4f\" % r2_score(y_test, y_pred))\n"
   ]
  },
  {
   "cell_type": "markdown",
   "metadata": {},
   "source": [
    "## Avaliando predição - com Lasso"
   ]
  },
  {
   "cell_type": "code",
   "execution_count": 11,
   "metadata": {},
   "outputs": [
    {
     "name": "stdout",
     "output_type": "stream",
     "text": [
      "Coeficientes: [0.04576837 0.18018012 0.        ]\n",
      "R2 (ou coeficiente de determinação): 0.9313\n"
     ]
    }
   ],
   "source": [
    "from sklearn.linear_model import Lasso\n",
    "\n",
    "\n",
    "regrLasso = Lasso(alpha=2.0)#alpha é a força da regularização, quanto maior, menos features consideradas\n",
    "\n",
    "regrLasso.fit(X_train, y_train)\n",
    "\n",
    "y_pred = regrLasso.predict(X_test)\n",
    "\n",
    "print(\"Coeficientes:\", regrLasso.coef_)\n",
    "\n",
    "print(\"R2 (ou coeficiente de determinação): %.4f\" % r2_score(y_test, y_pred))"
   ]
  },
  {
   "cell_type": "markdown",
   "metadata": {},
   "source": [
    "#### Tuning com o GridSearch\n",
    "Podemos usar, por exemplo, GridSearch, para identificar o melhor alpha. GridSearch será exemplificado para outro problema. "
   ]
  }
 ],
 "metadata": {
  "kernelspec": {
   "display_name": "venv",
   "language": "python",
   "name": "python3"
  },
  "language_info": {
   "codemirror_mode": {
    "name": "ipython",
    "version": 3
   },
   "file_extension": ".py",
   "mimetype": "text/x-python",
   "name": "python",
   "nbconvert_exporter": "python",
   "pygments_lexer": "ipython3",
   "version": "3.13.5"
  }
 },
 "nbformat": 4,
 "nbformat_minor": 4
}
